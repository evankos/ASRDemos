{
 "cells": [
  {
   "cell_type": "code",
   "execution_count": 1,
   "metadata": {},
   "outputs": [],
   "source": [
    "import numpy as np\n",
    "import fst\n",
    "import matplotlib.pyplot as P\n",
    "%matplotlib inline"
   ]
  },
  {
   "cell_type": "markdown",
   "metadata": {},
   "source": [
    "# Intro to HMMs\n",
    "\n",
    "Hidden Markov Models (HMMs) are a well known mathematical construct for modeling sequences of events using probabilistic reasoning. Its advantage is that it's very intuitive and not too hard to implement. You can probably find much more information on places like [Wikipedia](https://en.wikipedia.org/wiki/Hidden_Markov_model) and dozens of other sites you can google (e.g. [this](http://www.comp.leeds.ac.uk/roger/HiddenMarkovModels/html_dev/main.html) one is one of my favorites).\n",
    "\n",
    "For speech recognition, the go to paper is an old one by [Rabiner](http://www.ee.columbia.edu/~dpwe/e6820/papers/Rabiner89-hmm.pdf) which is written in a very simple and easy to understand way with examples specifically tuned to its application in speech recognition. If this is your first time hearing about it, you have to go and read that paper at once. This notebook will simply go through some of the major points written there and show their implementation in Python.\n",
    "\n",
    "## HMM algorithms\n",
    "\n",
    "The Rabiner paper mentions 3 problems that are solved using HMMs:\n",
    "\n",
    "  1. Find the joint probability of a sequence of states given an HMM model - solved using the Forward algorithm\n",
    "  2. Finding the most likely sequence of hidden states given the probability above - solved using the Viterbi algorithm\n",
    "  3. Fine-tuning the parameters of the model by observing the likelihood of each state transition at each point in time - the Baum-Welch algorithm based around the Forward-Backward mechanic\n",
    "  \n",
    "As a reminder, the HMM is defined by the following parameters:\n",
    "\n",
    "  * observation probability - classically is the output of a Gaussian Mixture Model (GMM), but we want to use the output of the ANN (e.g. MLP) here instead. For consistency with the Rabiner paper we will instead use a discrete model here, which means that observations will simply be some descreete events and the model will gives us a simple value of how probable this event is given a particular state (from a lookup table) \n",
    "  * hidden states - in our case, these are the units we try to recognize: e.g. phonemes, but also possibly things like words, which are a combination of phonemes (models can be combined in several layers - more on that later)\n",
    "  * transitions - as the name suggests, transitions from one state to another - these can contain weights that modify the probability (i.e. it is more likely to transition between certain phonemes than others)\n",
    "  * priors - initial probailities of starting a sequence in a certain state (this is often skipped whithout much problems)\n",
    "  \n",
    "To keep things readable, we will use the same notation as in Rabiner's paper:\n",
    "  * for observations we will use the letter *b*\n",
    "  * for transitions the letter *a*\n",
    "  * for priors the word *pi*\n",
    "  \n",
    "## Example model\n",
    "\n",
    "Here we will generate some random values to demonstrate the algorithms. Our HMM wil have 3 states and we will feed 5 observations into it. Each observation is a descrete event of on of 4 possible values. The model will also connect all the states to all the others. We are allowed to start and finish at any state.\n",
    "\n",
    "#### Constants\n",
    "\n",
    "These are the constants from above using notation from the Rabiner paper:"
   ]
  },
  {
   "cell_type": "code",
   "execution_count": 2,
   "metadata": {},
   "outputs": [],
   "source": [
    "N=3\n",
    "M=4\n",
    "T=5"
   ]
  },
  {
   "cell_type": "markdown",
   "metadata": {},
   "source": [
    "#### Observation sequence\n",
    "\n",
    "We will generate a random sequence of observations:"
   ]
  },
  {
   "cell_type": "code",
   "execution_count": 3,
   "metadata": {},
   "outputs": [
    {
     "name": "stdout",
     "output_type": "stream",
     "text": [
      "[0 1 2 1 0]\n"
     ]
    }
   ],
   "source": [
    "O=np.random.randint(0,M,T)\n",
    "print O"
   ]
  },
  {
   "cell_type": "markdown",
   "metadata": {},
   "source": [
    "The observation matrix will convert these events into probablities for individual states. The matrix is a 3x4 matrix, where the first dimension is the state and second is the observation id:"
   ]
  },
  {
   "cell_type": "code",
   "execution_count": 4,
   "metadata": {},
   "outputs": [
    {
     "name": "stdout",
     "output_type": "stream",
     "text": [
      "[[ 0.53375578  0.10345127  0.33152859  0.66017725]\n",
      " [ 0.26331038  0.65987904  0.40656356  0.11079022]\n",
      " [ 0.20293384  0.23666969  0.26190785  0.22903253]]\n"
     ]
    }
   ],
   "source": [
    "b=np.random.random((N,M))\n",
    "b/=np.array([b.sum(axis=0)])\n",
    "print b"
   ]
  },
  {
   "cell_type": "markdown",
   "metadata": {},
   "source": [
    "Note that probabilites for individual events have to sum to 1, i.e. each event is modeled by a probability distribution over the states (not the other way around):"
   ]
  },
  {
   "cell_type": "code",
   "execution_count": 5,
   "metadata": {},
   "outputs": [
    {
     "name": "stdout",
     "output_type": "stream",
     "text": [
      "[ 1.  1.  1.  1.]\n"
     ]
    }
   ],
   "source": [
    "print b.sum(axis=0)"
   ]
  },
  {
   "cell_type": "markdown",
   "metadata": {},
   "source": [
    "Given thes probabilities, we can easily estimate the observation probabilities in time:"
   ]
  },
  {
   "cell_type": "code",
   "execution_count": 6,
   "metadata": {},
   "outputs": [
    {
     "name": "stdout",
     "output_type": "stream",
     "text": [
      "[[ 0.53375578  0.26331038  0.20293384]\n",
      " [ 0.10345127  0.65987904  0.23666969]\n",
      " [ 0.33152859  0.40656356  0.26190785]\n",
      " [ 0.10345127  0.65987904  0.23666969]\n",
      " [ 0.53375578  0.26331038  0.20293384]]\n"
     ]
    }
   ],
   "source": [
    "ob=np.zeros((T,N))\n",
    "for t in range(T):\n",
    "    for i in range(N):\n",
    "        ob[t,i]=b[i,O[t]]\n",
    "print ob"
   ]
  },
  {
   "cell_type": "markdown",
   "metadata": {},
   "source": [
    "Or in simpler, Numpy terms:"
   ]
  },
  {
   "cell_type": "code",
   "execution_count": 7,
   "metadata": {},
   "outputs": [
    {
     "name": "stdout",
     "output_type": "stream",
     "text": [
      "[[ 0.53375578  0.26331038  0.20293384]\n",
      " [ 0.10345127  0.65987904  0.23666969]\n",
      " [ 0.33152859  0.40656356  0.26190785]\n",
      " [ 0.10345127  0.65987904  0.23666969]\n",
      " [ 0.53375578  0.26331038  0.20293384]]\n"
     ]
    }
   ],
   "source": [
    "ob=b.T[O]\n",
    "print ob"
   ]
  },
  {
   "cell_type": "markdown",
   "metadata": {},
   "source": [
    "These also sum to 1 at each time step:"
   ]
  },
  {
   "cell_type": "code",
   "execution_count": 8,
   "metadata": {},
   "outputs": [
    {
     "name": "stdout",
     "output_type": "stream",
     "text": [
      "[ 1.  1.  1.  1.  1.]\n"
     ]
    }
   ],
   "source": [
    "print ob.sum(axis=1)"
   ]
  },
  {
   "cell_type": "markdown",
   "metadata": {},
   "source": [
    "Please note that in our case, we will reaplace this lookup table with a proper model, e.g. an MLP or something better. This simple model will let us demonstrate the Baum-Welch algorithm, which is normally not used when talking about hybrid ANN-HMM models.\n",
    "\n",
    "#### State transition matrix\n",
    "\n",
    "The state transition matrix is 3x3 and its rows also have to sum to 1 (i.e. the sum of probabilities of going from one state to all the others has to be equal one):"
   ]
  },
  {
   "cell_type": "code",
   "execution_count": 9,
   "metadata": {},
   "outputs": [
    {
     "name": "stdout",
     "output_type": "stream",
     "text": [
      "[[ 0.44056368  0.08175695  0.47767937]\n",
      " [ 0.4364632   0.40292622  0.16061058]\n",
      " [ 0.00281623  0.88340507  0.1137787 ]]\n",
      "[ 1.  1.  1.]\n"
     ]
    }
   ],
   "source": [
    "a=np.random.random((N,N))\n",
    "a/=np.array([a.sum(axis=-1)]).T\n",
    "print a\n",
    "print a.sum(axis=1)"
   ]
  },
  {
   "cell_type": "markdown",
   "metadata": {},
   "source": [
    "#### Priors\n",
    "\n",
    "We will also generate the priors. You can use random values or set everything to equally likely. The code below should work either way:"
   ]
  },
  {
   "cell_type": "code",
   "execution_count": 10,
   "metadata": {},
   "outputs": [
    {
     "name": "stdout",
     "output_type": "stream",
     "text": [
      "[ 0.13060479  0.574861    0.29453421]\n"
     ]
    }
   ],
   "source": [
    "pi=np.random.random(N)\n",
    "pi/=pi.sum()\n",
    "print pi"
   ]
  },
  {
   "cell_type": "markdown",
   "metadata": {},
   "source": [
    "#### Final model\n",
    "\n",
    "To make things easier to read below, we will merge all the values above into a single tuple:"
   ]
  },
  {
   "cell_type": "code",
   "execution_count": 11,
   "metadata": {},
   "outputs": [],
   "source": [
    "hmm=(O,pi,a,b,N,M,T)"
   ]
  },
  {
   "cell_type": "markdown",
   "metadata": {},
   "source": [
    "Here is some short code to save the model to a file:"
   ]
  },
  {
   "cell_type": "code",
   "execution_count": 12,
   "metadata": {},
   "outputs": [],
   "source": [
    "import pickle\n",
    "\n",
    "with open('../data/hmm.pkl','w') as f:\n",
    "    pickle.dump(hmm,f,pickle.HIGHEST_PROTOCOL)"
   ]
  },
  {
   "cell_type": "markdown",
   "metadata": {},
   "source": [
    "### Forward algorithm\n",
    "\n",
    "Implementing the algorithm directly using Rabiner's paper would look like this. Note that Rabiner iterates his vectors/matrices starting from 1 (which is a standard in mathematics), but Python (as most computer programming languages) iterates from 0, so there is a little offset everywhere:"
   ]
  },
  {
   "cell_type": "code",
   "execution_count": 13,
   "metadata": {},
   "outputs": [
    {
     "name": "stdout",
     "output_type": "stream",
     "text": [
      "[[ 0.06971106  0.15136687  0.05977096]\n",
      " [ 0.01002924  0.07884961  0.01524421]\n",
      " [ 0.01288864  0.01872524  0.00502583]\n",
      " [ 0.00143438  0.00860381  0.0023042 ]\n",
      " [ 0.00234515  0.00147968  0.00047268]]\n"
     ]
    }
   ],
   "source": [
    "def forward(O,pi,a,b,N,M,T):\n",
    "    fwd=np.zeros((T,N))\n",
    "\n",
    "    #initiazliation\n",
    "    for i in range(N):\n",
    "        fwd[0,i]=pi[i]*b[i,O[0]]\n",
    "\n",
    "    #induction\n",
    "    for t in range(T-1):\n",
    "        for j in range(N):\n",
    "            s=0\n",
    "            for i in range(N):\n",
    "                s+=fwd[t,i]*a[i,j]\n",
    "            fwd[t+1,j]=s*b[j,O[t+1]]\n",
    "            \n",
    "    return fwd\n",
    "\n",
    "print forward(*hmm)"
   ]
  },
  {
   "cell_type": "markdown",
   "metadata": {},
   "source": [
    "Numpy allows us to implement this a bit more efficiently:"
   ]
  },
  {
   "cell_type": "code",
   "execution_count": 14,
   "metadata": {},
   "outputs": [
    {
     "name": "stdout",
     "output_type": "stream",
     "text": [
      "[[ 0.06971106  0.15136687  0.05977096]\n",
      " [ 0.01002924  0.07884961  0.01524421]\n",
      " [ 0.01288864  0.01872524  0.00502583]\n",
      " [ 0.00143438  0.00860381  0.0023042 ]\n",
      " [ 0.00234515  0.00147968  0.00047268]]\n"
     ]
    }
   ],
   "source": [
    "def forward(O,pi,a,b,N,M,T):\n",
    "    fwd=np.zeros((T,N))\n",
    "\n",
    "    #initialization\n",
    "    fwd[0]=pi*b[:,O[0]]\n",
    "\n",
    "    #induction:\n",
    "    for t in range(T-1):\n",
    "        fwd[t+1]=np.dot(fwd[t],a)*b[:,O[t+1]]\n",
    "    \n",
    "    return fwd\n",
    "\n",
    "print forward(*hmm)"
   ]
  },
  {
   "cell_type": "code",
   "execution_count": 15,
   "metadata": {},
   "outputs": [
    {
     "name": "stdout",
     "output_type": "stream",
     "text": [
      "[[ 0.06971106  0.15136687  0.05977096]\n",
      " [ 0.01002924  0.07884961  0.01524421]\n",
      " [ 0.01288864  0.01872524  0.00502583]\n",
      " [ 0.00143438  0.00860381  0.0023042 ]\n",
      " [ 0.00234515  0.00147968  0.00047268]]\n"
     ]
    }
   ],
   "source": [
    "def forward(O,pi,a,b,N,M,T):\n",
    "    fwd=np.zeros((T,N))\n",
    "\n",
    "    #initialization\n",
    "    fwd[0]=pi*b[:,O[0]]\n",
    "    \n",
    "    #induction:\n",
    "    for t in range(T-1):\n",
    "        fwd[t+1]=np.dot(fwd[t],a)*b[:,O[t+1]]\n",
    "    \n",
    "    return fwd\n",
    "\n",
    "print forward(*hmm)"
   ]
  },
  {
   "cell_type": "markdown",
   "metadata": {},
   "source": [
    "This allows us to determine the joint probability of the sequence given the model (simply a sum of all the forward probabilities at the last time step):"
   ]
  },
  {
   "cell_type": "code",
   "execution_count": 16,
   "metadata": {},
   "outputs": [
    {
     "name": "stdout",
     "output_type": "stream",
     "text": [
      "0.00429750109789\n"
     ]
    }
   ],
   "source": [
    "def full_prob(fwd):\n",
    "    return fwd[-1].sum()\n",
    "\n",
    "print full_prob(forward(*hmm))"
   ]
  },
  {
   "cell_type": "markdown",
   "metadata": {},
   "source": [
    "### Viterbi algorithm\n",
    "\n",
    "Note that usually when we classifiy using MLPs directly (without HMMs), we just pick the most probable class at each timestep. This gives us the following sequnce:"
   ]
  },
  {
   "cell_type": "code",
   "execution_count": 17,
   "metadata": {},
   "outputs": [
    {
     "data": {
      "text/plain": [
       "array([0, 1, 1, 1, 0])"
      ]
     },
     "execution_count": 17,
     "output_type": "execute_result",
     "metadata": {}
    }
   ],
   "source": [
    "np.argmax(ob,axis=1)"
   ]
  },
  {
   "cell_type": "markdown",
   "metadata": {},
   "source": [
    "The sequence above doesn't take any context into account, however. The HMM model tells us that it may be more likely to choose certrain transitions than others. The Viterbi algorithm lets us find the most likely sequence of states (classes), while taking the parameters of the HMM into account:"
   ]
  },
  {
   "cell_type": "code",
   "execution_count": 18,
   "metadata": {},
   "outputs": [
    {
     "name": "stdout",
     "output_type": "stream",
     "text": [
      "[1 1 1 1 0]\n"
     ]
    }
   ],
   "source": [
    "def viterbi(O,pi,a,b,N,M,T):\n",
    "    d=np.zeros((T,N))\n",
    "    ph=np.zeros((T,N),dtype=np.int)\n",
    "\n",
    "    #initialization\n",
    "    for i in range(N):\n",
    "        d[0,i]=pi[i]*b[i,O[0]]\n",
    "        ph[0,i]=0\n",
    "\n",
    "    #recursion\n",
    "    for t in range(1,T):\n",
    "        for j in range(N):\n",
    "            m=np.zeros(N)\n",
    "            for i in range(N):\n",
    "                m[i]=d[t-1,i]*a[i,j]\n",
    "            ph[t,j]=m.argmax()\n",
    "            d[t,j]=m.max()*b[j,O[t]]\n",
    "\n",
    "    #termination\n",
    "    m=np.zeros(N)\n",
    "    for i in range(N):\n",
    "        m[i]=d[T-1,i]\n",
    "    Pv=m.max()\n",
    "\n",
    "    #path back-tracking\n",
    "    Q=np.zeros(T,dtype=np.int)\n",
    "    Q[T-1]=m.argmax()\n",
    "    for t in reversed(range(T-1)):\n",
    "        Q[t]=ph[t+1,Q[t+1]]\n",
    "        \n",
    "    return Q\n",
    "\n",
    "print viterbi(*hmm)"
   ]
  },
  {
   "cell_type": "markdown",
   "metadata": {},
   "source": [
    "And a slightly faster Numpy implementation:"
   ]
  },
  {
   "cell_type": "code",
   "execution_count": 19,
   "metadata": {},
   "outputs": [
    {
     "name": "stdout",
     "output_type": "stream",
     "text": [
      "[1 1 1 1 0]\n"
     ]
    }
   ],
   "source": [
    "def viterbi(O,pi,a,b,N,M,T):\n",
    "    d=np.zeros((T,N))\n",
    "    ph=np.zeros((T,N),dtype=np.int)\n",
    "\n",
    "    #initialization\n",
    "    d[0]=pi*b[:,O[0]]\n",
    "    ph[0]=0\n",
    "\n",
    "    #recursion\n",
    "    for t in range(1,T):\n",
    "        m=d[t-1]*a.T        \n",
    "        ph[t]=m.argmax(axis=1)\n",
    "        d[t]=m[np.arange(N),ph[t]]*b[:,O[t]]    \n",
    "\n",
    "    #termination\n",
    "    Q=np.zeros(T,dtype=np.int)\n",
    "    Q[T-1]=np.argmax(d[T-1])\n",
    "    Pv=d[T-1,Q[T-1]]\n",
    "\n",
    "    #path back-tracking\n",
    "    for t in reversed(range(T-1)):\n",
    "        Q[t]=ph[t+1,Q[t+1]]\n",
    "\n",
    "    return Q\n",
    "\n",
    "print viterbi(*hmm)"
   ]
  },
  {
   "cell_type": "markdown",
   "metadata": {},
   "source": [
    "It should also be clear that if we set both the priors and transitions to be equiprobable (all the same value) the best observation and Viterbi paths will be the same.\n",
    "\n",
    "### Forward-backward routine\n",
    "\n",
    "The forward algorithm is already implemented above, so here, we will show the backward here:"
   ]
  },
  {
   "cell_type": "code",
   "execution_count": 20,
   "metadata": {},
   "outputs": [
    {
     "name": "stdout",
     "output_type": "stream",
     "text": [
      "[[ 0.00983429  0.01427416  0.02428114]\n",
      " [ 0.04165409  0.03925479  0.05146331]\n",
      " [ 0.06524467  0.12455948  0.22368039]\n",
      " [ 0.35361817  0.37165273  0.25720245]\n",
      " [ 1.          1.          1.        ]]\n"
     ]
    }
   ],
   "source": [
    "def backward(O,pi,a,b,N,M,T):\n",
    "    bk=np.zeros((T,N))\n",
    "    #initialization\n",
    "    for i in range(N):\n",
    "        bk[T-1,i]=1\n",
    "    #induction:\n",
    "    for t in reversed(range(T-1)):\n",
    "        for i in range(N):\n",
    "            s=0\n",
    "            for j in range(N):\n",
    "                s+=a[i,j]*b[j,O[t+1]]*bk[t+1,j]            \n",
    "            bk[t,i]=s\n",
    "    return bk\n",
    "\n",
    "print backward(*hmm)"
   ]
  },
  {
   "cell_type": "markdown",
   "metadata": {},
   "source": [
    "And in Numpy:"
   ]
  },
  {
   "cell_type": "code",
   "execution_count": 21,
   "metadata": {},
   "outputs": [
    {
     "name": "stdout",
     "output_type": "stream",
     "text": [
      "[[ 0.00983429  0.01427416  0.02428114]\n",
      " [ 0.04165409  0.03925479  0.05146331]\n",
      " [ 0.06524467  0.12455948  0.22368039]\n",
      " [ 0.35361817  0.37165273  0.25720245]\n",
      " [ 1.          1.          1.        ]]\n"
     ]
    }
   ],
   "source": [
    "def backward(O,pi,a,b,N,M,T):\n",
    "    bk=np.zeros((T,N))\n",
    "    #initialization:\n",
    "    bk[T-1]=1\n",
    "    #induction:\n",
    "    for t in reversed(range(T-1)):\n",
    "        bk[t]=np.dot(bk[t+1]*b[:,O[t+1]],a.T)\n",
    "    return bk\n",
    "\n",
    "print backward(*hmm)"
   ]
  },
  {
   "cell_type": "markdown",
   "metadata": {},
   "source": [
    "When we have both Forward and Backward probabilities computed, we can use them together to estimate the probability of each state, at each point in time, by simply multuplying those two probablilities together. This works, because is the probability of a sequence from time 0 to time $t$ and backward is the probabilty from time $t$ to the end $T$. Adding them together gives a complete probability of passing that state in time. Addtionally, we normalize this by the joint probability $P$ to make sure everything sums up nicely (i.e. each timestep sums to 1):"
   ]
  },
  {
   "cell_type": "code",
   "execution_count": 22,
   "metadata": {},
   "outputs": [
    {
     "name": "stdout",
     "output_type": "stream",
     "text": [
      "[[ 0.15952497  0.50276549  0.33770954]\n",
      " [ 0.09720975  0.72023827  0.18255198]\n",
      " [ 0.19567537  0.54273542  0.26158921]\n",
      " [ 0.11802761  0.74406748  0.13790491]\n",
      " [ 0.5457006   0.34431105  0.10998835]]\n"
     ]
    }
   ],
   "source": [
    "def gamma(fwd,bk,fp):\n",
    "    gm=np.zeros((T,N))\n",
    "    for t in range(T):\n",
    "        for i in range(N):\n",
    "            gm[t,i]=(fwd[t,i]*bk[t,i])/fp\n",
    "    return gm\n",
    "\n",
    "print gamma(forward(*hmm),backward(*hmm),full_prob(forward(*hmm)))"
   ]
  },
  {
   "cell_type": "markdown",
   "metadata": {},
   "source": [
    "Numpy one-liner:"
   ]
  },
  {
   "cell_type": "code",
   "execution_count": 23,
   "metadata": {},
   "outputs": [
    {
     "name": "stdout",
     "output_type": "stream",
     "text": [
      "[[ 0.15952497  0.50276549  0.33770954]\n",
      " [ 0.09720975  0.72023827  0.18255198]\n",
      " [ 0.19567537  0.54273542  0.26158921]\n",
      " [ 0.11802761  0.74406748  0.13790491]\n",
      " [ 0.5457006   0.34431105  0.10998835]]\n"
     ]
    }
   ],
   "source": [
    "def gamma(fwd,bk,fp):\n",
    "    return (fwd*bk)/fp\n",
    "\n",
    "print gamma(forward(*hmm),backward(*hmm),full_prob(forward(*hmm)))"
   ]
  },
  {
   "cell_type": "markdown",
   "metadata": {},
   "source": [
    "We can compare the three probailities using a plot. You can notice on the plot (and it should be obvious from the equations) that forward probabilities decay exponentially in time and similarly (but in the opposite direction) with the backward probabilities. Adding them together, evens everything out and the full path denotes clearly what the most likely state at each step is."
   ]
  },
  {
   "cell_type": "code",
   "execution_count": 24,
   "metadata": {},
   "outputs": [
    {
     "data": {
      "text/plain": [
       "<matplotlib.text.Text at 0x7fb43f5a47d0>"
      ]
     },
     "execution_count": 24,
     "output_type": "execute_result",
     "metadata": {}
    },
    {
     "data": {
      "image/png": "[encoded data removed]"
     },
     "output_type": "display_data",
     "metadata": {}
    }
   ],
   "source": [
    "fig,ax=P.subplots(1,3,figsize=(15,3),sharey=True)\n",
    "\n",
    "\n",
    "ax[0].pcolormesh(forward(*hmm).T,cmap=P.cm.gray)\n",
    "ax[0].set_yticks(np.arange(0,N)+.5)\n",
    "ax[0].set_yticklabels(np.arange(0,N))\n",
    "ax[0].set_title('Forward')\n",
    "\n",
    "ax[1].pcolormesh(backward(*hmm).T,cmap=P.cm.gray)\n",
    "ax[1].set_title('Backward')\n",
    "\n",
    "g=gamma(forward(*hmm),backward(*hmm),full_prob(forward(*hmm)))\n",
    "ax[2].pcolormesh(g.T,cmap=P.cm.gray)\n",
    "ax[2].set_title('Full')"
   ]
  },
  {
   "cell_type": "markdown",
   "metadata": {},
   "source": [
    "Please note there are many sequences we can extract now and they are all different and NOT equivalent in any way, so you cannot use them interchangebly.\n",
    "\n",
    "  * we can get the best observation at each timestep, which doesn't take the transitions or priors of the HMM into account\n",
    "  * we can take the best forward or backward probability at each time step, which takes only the history/future into account\n",
    "  * we can take the best full-probability at each time step, but this isn't actually the most likely *sequence* - it is just the most likely state, i.e. there are many possible sequences and that is the *average* probability of all the sequences (likely or not) that go through that state\n",
    "  * finally, we can get simply the most likely sequence using the Viterbi algorithm\n",
    "  \n",
    "The problem with full probability argmax not being equivalent to the Viterbi sequence can also be explained by the fact that the two states in the full prob. sequence don't have to even be a part of the same sequence."
   ]
  },
  {
   "cell_type": "code",
   "execution_count": 25,
   "metadata": {},
   "outputs": [
    {
     "name": "stdout",
     "output_type": "stream",
     "text": [
      "Best observation sequence: [0 1 1 1 0]\n",
      "Best forward prob. sequence: [1 1 1 1 0]\n",
      "Best backward prob. sequence: [2 2 2 1 0]\n",
      "Best full prob. sequence: [1 1 1 1 0]\n",
      "Best Viterbi sequence: [1 1 1 1 0]\n"
     ]
    }
   ],
   "source": [
    "print 'Best observation sequence: {}'.format(np.argmax(ob,axis=1))\n",
    "print 'Best forward prob. sequence: {}'.format(np.argmax(forward(*hmm),axis=1))\n",
    "print 'Best backward prob. sequence: {}'.format(np.argmax(backward(*hmm),axis=1))\n",
    "g=gamma(forward(*hmm),backward(*hmm),full_prob(forward(*hmm)))\n",
    "print 'Best full prob. sequence: {}'.format(np.argmax(g,axis=1))\n",
    "print 'Best Viterbi sequence: {}'.format(viterbi(*hmm))"
   ]
  },
  {
   "cell_type": "markdown",
   "metadata": {},
   "source": [
    "### Baum-Welch\n",
    "\n",
    "Now we can also determine the sequence probablity, which would help us with fine-tuning the state transition likelihood. You can read about the Baum-Welch algorithm in Rabiner's paper, but this is something that is not really used much in hybrid ANN-HMM models. We are mentioning it here more for sake of curiousity:\n",
    "\n",
    "The transition probability computed for each timestep gives us a 3D matrix of size 4x3x3, since there are $N^2$ transitions at each timestep and only $T-1$ transitions time steps (i.e. number of transitions between 5 consecutive timesteps). The matrix is computed thusly:"
   ]
  },
  {
   "cell_type": "code",
   "execution_count": 26,
   "metadata": {},
   "outputs": [
    {
     "name": "stdout",
     "output_type": "stream",
     "text": [
      "[[[  3.07955404e-02   3.43532117e-02   9.43762150e-02]\n",
      "  [  6.62454248e-02   3.67618460e-01   6.89016034e-02]\n",
      "  [  1.68785883e-04   3.18266595e-01   1.92741635e-02]]\n",
      "\n",
      " [[  2.22395996e-02   9.66233633e-03   6.53078151e-02]\n",
      "  [  1.73219688e-01   3.74381469e-01   1.72637109e-01]\n",
      "  [  2.16084372e-04   1.58691610e-01   2.36442879e-02]]\n",
      "\n",
      " [[  4.83359429e-02   6.01336344e-02   8.72057951e-02]\n",
      "  [  6.95711863e-02   4.30564850e-01   4.25993795e-02]\n",
      "  [  1.20484393e-04   2.53368996e-01   8.09973173e-03]]\n",
      "\n",
      " [[  7.84874698e-02   7.18524727e-03   3.23548965e-02]\n",
      "  [  4.66407165e-01   2.12406845e-01   6.52534701e-02]\n",
      "  [  8.05964047e-04   1.24718959e-01   1.23799829e-02]]]\n"
     ]
    }
   ],
   "source": [
    "def xi(fwd,bk,fp,O,pi,a,b,N,M,T):\n",
    "    ret=np.zeros((T-1,N,N))\n",
    "    for t in range(T-1):\n",
    "        for i in range(N):\n",
    "            for j in range(N):\n",
    "                ret[t,i,j]=(fwd[t,i]*a[i,j]*b[j,O[t+1]]*bk[t+1,j])/fp                \n",
    "    return ret\n",
    "\n",
    "print xi(forward(*hmm),backward(*hmm),full_prob(forward(*hmm)),*hmm)"
   ]
  },
  {
   "cell_type": "markdown",
   "metadata": {},
   "source": [
    "Numpy version:"
   ]
  },
  {
   "cell_type": "code",
   "execution_count": 27,
   "metadata": {},
   "outputs": [
    {
     "name": "stdout",
     "output_type": "stream",
     "text": [
      "[[[  3.07955404e-02   3.43532117e-02   9.43762150e-02]\n",
      "  [  6.62454248e-02   3.67618460e-01   6.89016034e-02]\n",
      "  [  1.68785883e-04   3.18266595e-01   1.92741635e-02]]\n",
      "\n",
      " [[  2.22395996e-02   9.66233633e-03   6.53078151e-02]\n",
      "  [  1.73219688e-01   3.74381469e-01   1.72637109e-01]\n",
      "  [  2.16084372e-04   1.58691610e-01   2.36442879e-02]]\n",
      "\n",
      " [[  4.83359429e-02   6.01336344e-02   8.72057951e-02]\n",
      "  [  6.95711863e-02   4.30564850e-01   4.25993795e-02]\n",
      "  [  1.20484393e-04   2.53368996e-01   8.09973173e-03]]\n",
      "\n",
      " [[  7.84874698e-02   7.18524727e-03   3.23548965e-02]\n",
      "  [  4.66407165e-01   2.12406845e-01   6.52534701e-02]\n",
      "  [  8.05964047e-04   1.24718959e-01   1.23799829e-02]]]\n"
     ]
    }
   ],
   "source": [
    "def xi(fwd,bk,fp,O,pi,a,b,N,M,T):\n",
    "    return fwd[:-1].reshape((T-1,N,1))*a.reshape((1,N,N))*b[:,O[1:]].T.reshape((T-1,1,N))*bk[1:].reshape((T-1,1,N))/fp\n",
    "\n",
    "print xi(forward(*hmm),backward(*hmm),full_prob(forward(*hmm)),*hmm)"
   ]
  },
  {
   "cell_type": "markdown",
   "metadata": {},
   "source": [
    "The expected prior value can be estimated by simply looking at the expected value $\\gamma$ at the first point in time:"
   ]
  },
  {
   "cell_type": "code",
   "execution_count": 28,
   "metadata": {},
   "outputs": [
    {
     "name": "stdout",
     "output_type": "stream",
     "text": [
      "[ 0.15952497  0.50276549  0.33770954]\n"
     ]
    }
   ],
   "source": [
    "def exp_pi(gamma):\n",
    "    return gamma[0]\n",
    "\n",
    "print exp_pi(gamma(forward(*hmm),backward(*hmm),full_prob(forward(*hmm))))"
   ]
  },
  {
   "cell_type": "markdown",
   "metadata": {},
   "source": [
    "The expected transistions is the sum (for different timestep) of transition probabilities $\\xi$ normalized by the corresponding emitting state probabilities $\\gamma$:"
   ]
  },
  {
   "cell_type": "code",
   "execution_count": 29,
   "metadata": {},
   "outputs": [
    {
     "name": "stdout",
     "output_type": "stream",
     "text": [
      "[[ 0.3152992   0.19517369  0.48952711]\n",
      " [ 0.30896542  0.55182403  0.13921055]\n",
      " [ 0.00142573  0.92964492  0.06892936]]\n"
     ]
    }
   ],
   "source": [
    "def exp_a(gamma,xi,N):\n",
    "    e_a=np.zeros((N,N))\n",
    "    for i in range(N):\n",
    "        for j in range(N):\n",
    "            e_a[i,j]=np.sum(xi[:,i,j])/np.sum(gamma[:-1,i])\n",
    "            \n",
    "    return e_a\n",
    "\n",
    "fw=forward(*hmm)\n",
    "bk=backward(*hmm)\n",
    "fp=full_prob(fw)\n",
    "g=gamma(fw,bk,fp)\n",
    "x=xi(fw,bk,fp,*hmm)\n",
    "\n",
    "ea=exp_a(g,x,N)\n",
    "\n",
    "print exp_a(g,x,N)"
   ]
  },
  {
   "cell_type": "markdown",
   "metadata": {},
   "source": [
    "Numpy version:"
   ]
  },
  {
   "cell_type": "code",
   "execution_count": 30,
   "metadata": {},
   "outputs": [
    {
     "name": "stdout",
     "output_type": "stream",
     "text": [
      "[[ 0.3152992   0.19517369  0.48952711]\n",
      " [ 0.30896542  0.55182403  0.13921055]\n",
      " [ 0.00142573  0.92964492  0.06892936]]\n"
     ]
    }
   ],
   "source": [
    "def exp_a(gamma,xi,N):            \n",
    "    return xi[:].sum(axis=0)/gamma[:-1].sum(axis=0).reshape(N,1)\n",
    "\n",
    "fw=forward(*hmm)\n",
    "bk=backward(*hmm)\n",
    "fp=full_prob(fw)\n",
    "g=gamma(fw,bk,fp)\n",
    "x=xi(fw,bk,fp,*hmm)\n",
    "\n",
    "print exp_a(g,x,N)"
   ]
  },
  {
   "cell_type": "markdown",
   "metadata": {},
   "source": [
    "Finally, the expected observation likelihood is sum of probabilities of given states at times where the specific observation occured normalized by the sum of all the probilities in time for the given state:"
   ]
  },
  {
   "cell_type": "code",
   "execution_count": 31,
   "metadata": {},
   "outputs": [
    {
     "name": "stdout",
     "output_type": "stream",
     "text": [
      "[[ 0.63184425  0.19284112  0.17531463  0.        ]\n",
      " [ 0.29679103  0.51305023  0.19015874  0.        ]\n",
      " [ 0.43476621  0.31120054  0.25403325  0.        ]]\n"
     ]
    }
   ],
   "source": [
    "def exp_b(gamma,O,N,M):\n",
    "    e_b=np.zeros((N,M))\n",
    "    for j in range(N):\n",
    "        for k in range(M):        \n",
    "            e_b[j,k]=np.sum(gamma[O==k,j])/np.sum(gamma[:,j])\n",
    "    return e_b\n",
    "\n",
    "fw=forward(*hmm)\n",
    "bk=backward(*hmm)\n",
    "fp=full_prob(fw)\n",
    "g=gamma(fw,bk,fp)\n",
    "\n",
    "print exp_b(g,O,N,M)"
   ]
  },
  {
   "cell_type": "markdown",
   "metadata": {},
   "source": [
    "Numpy version (couldn't figure out how to get rid of the *k* loop):"
   ]
  },
  {
   "cell_type": "code",
   "execution_count": 32,
   "metadata": {},
   "outputs": [
    {
     "name": "stdout",
     "output_type": "stream",
     "text": [
      "[[ 0.63184425  0.19284112  0.17531463  0.        ]\n",
      " [ 0.29679103  0.51305023  0.19015874  0.        ]\n",
      " [ 0.43476621  0.31120054  0.25403325  0.        ]]\n"
     ]
    }
   ],
   "source": [
    "def exp_b(gamma,O,N,M):    \n",
    "    return np.array(map(lambda k: np.sum(gamma[O==k],axis=0)/np.sum(gamma,axis=0), np.arange(M))).T\n",
    "\n",
    "fw=forward(*hmm)\n",
    "bk=backward(*hmm)\n",
    "fp=full_prob(fw)\n",
    "g=gamma(fw,bk,fp)\n",
    "\n",
    "print exp_b(g,O,N,M)"
   ]
  },
  {
   "cell_type": "markdown",
   "metadata": {},
   "source": [
    "#### Updates\n",
    "\n",
    "The Baum-Welch algorithm now works by repeadatly updating the model parameters in this two step *EM* (first Expectation, then Modification) procedure. The goal of the algorithm is to maximize the $P(O|\\Lambda)$, where $O$ is the observation sequence and $\\Lambda$ is the model. We will also print out the mean square of the difference of model parameters vs their expected value:"
   ]
  },
  {
   "cell_type": "code",
   "execution_count": 49,
   "metadata": {},
   "outputs": [
    {
     "name": "stdout",
     "output_type": "stream",
     "text": [
      "Initial probability: 0.00429750109789\n",
      "Update #1 probability: 0.00509988830851 -- mean error: 0.0312950732496\n",
      "Update #2 probability: 0.00619259912726 -- mean error: 0.00250484514145\n",
      "Update #3 probability: 0.00862175382808 -- mean error: 0.00354749899731\n",
      "Update #4 probability: 0.0136389139542 -- mean error: 0.00476954018424\n",
      "Update #5 probability: 0.0189215113683 -- mean error: 0.00249158166715\n",
      "Update #6 probability: 0.0234132960784 -- mean error: 0.00156689403255\n",
      "Update #7 probability: 0.037457169758 -- mean error: 0.00485260629198\n",
      "Update #8 probability: 0.109155856481 -- mean error: 0.00896292597035\n",
      "Update #9 probability: 0.21859410717 -- mean error: 0.00389884346838\n",
      "Update #10 probability: 0.238835338999 -- mean error: 0.000297478434192\n",
      "Update #11 probability: 0.244890426118 -- mean error: 7.89287339611e-05\n",
      "Update #12 probability: 0.247751721958 -- mean error: 1.83136278322e-05\n",
      "Update #13 probability: 0.249030029832 -- mean error: 3.72290018409e-06\n",
      "Update #14 probability: 0.24958516681 -- mean error: 7.08709470271e-07\n",
      "Update #15 probability: 0.249823249994 -- mean error: 1.30928780085e-07\n"
     ]
    }
   ],
   "source": [
    "print 'Initial probability: {}'.format(full_prob(forward(*hmm)))\n",
    "\n",
    "hmm_new=hmm\n",
    "for i in range(15):\n",
    "    fw=forward(*hmm_new)\n",
    "    bk=backward(*hmm_new)\n",
    "    fp=full_prob(fw)\n",
    "    g=gamma(fw,bk,fp)\n",
    "    x=xi(fw,bk,fp,*hmm_new)\n",
    "\n",
    "    pi_new=exp_pi(g)\n",
    "    a_new=exp_a(g,x,N)\n",
    "    b_new=exp_b(g,O,N,M)\n",
    "    \n",
    "    err=np.concatenate(((pi_new-hmm_new[1]).ravel(),(a_new-hmm_new[2]).ravel(),(b_new-hmm_new[3]).ravel()))    \n",
    "    \n",
    "    hmm_new=(O,pi_new,a_new,b_new,N,M,T)\n",
    "\n",
    "    print 'Update #{} probability: {} -- mean error: {}'.format(i+1,full_prob(forward(*hmm_new)),np.mean(err**2))"
   ]
  },
  {
   "cell_type": "markdown",
   "metadata": {},
   "source": [
    "Now, this doesn't do anything for optimizing the Viterbi sequence recognized by the model, but there is another way HMMs are trained for speech recognition. Usually, each phonetical unit is modelled by a simple 3-5 state left-to-right model. When we present the recognizer a sentence, we actually combine all these phonetic models into one long chain. Then we try to maximize the $P(O|\\Lambda_{\\rho})$ for each phoneme (indexed by $\\rho$) individually, using the above E-M reestimation procedure.\n",
    "\n",
    "With hybird ANN-HMM systems, we generally don't use EM training. ANNs are usually trained discriminatevly. In that case, we need a frame-wise alignment to train the model. We can either iteratively re-align the data (using Viterbi) and train the system, or we can use some other cost function (e.g. CTC), skipping the HMM part entirely.\n",
    "\n",
    "## HMM topologies for speech recognition\n",
    "\n",
    "To actually perform speech recognition using HMMs, we need to expand the definition of the model considerably. First of all, this model will allow us only to recognize a simple sequence of events. \n",
    "\n",
    "Say we create an \"acoustic model\" (instead of the observation martix) that will recognize phonemes based on some acoustic observations (e.g. STFT filterbank outputs through time). We can easily do this using a simple MLP. Such a model can use HMMs to cconvert the raw MLP outputs into a sequence of phonemes. If we wish to recognize words, we need to create another model to convert that sequence of phonemes into their word representation.\n",
    "\n",
    "Since a sequence of words is the same kind of sequence as the sequence of phonemes (albeit a bit more sparse), we can model it simply as another layer of HMMs on top of the phoneme one. This layer will not allow any sequence of phonemes, but only the ones that form actual words from a lexicon. We can also add one more layer that will define how words can interact with eachother in a sentence - the so-called language model.\n",
    "\n",
    "All these layers can get very tricky. In practice, we may decide to acutally recreate this layered model in a single-layered complex graph containg all the weights and contraints of both the phonetic, lexical and language layers together. This is named, by some reaserchers, an \"Integrated Network\" or IN for short. This turns out to be not enough in order to fully realize our solution, as the hidden states are still phonemes and not words. We can therefore add special non-emitting states (states that don't move the time-line) to denote word bnoundaries - times where a word has to be output.\n",
    "\n",
    "A slightly more efficient solution would be to instead add an additional field to each state, apart from the phoneme that we are trying to consume, a word that we are trying to output. For most states, this auxilary value would be blank, but every once in a while we would have a word that needs to be output.\n",
    "\n",
    "Thus we have successfully redefined our classical HMM solution that relied on Finite-State Automata (FSA) to a much more convinient solution that relies of Finite-State Transducers (FST)."
   ]
  },
  {
   "cell_type": "markdown",
   "metadata": {},
   "source": [
    "# WFST\n",
    "\n",
    "Weighted Finite State Transducers are a type of automaton that has a sequence of states with transitions between them, just like an HMM. Unlike an HMM, a transducer has two types of symbols: an input and an output.\n",
    "\n",
    "HMM problems are usually presented as a graph with hidden states, denoting our hidden value that we are trying to deduce, and a weight related to the transition between these states. A different and pretty much equivalent method to represent this same model is to rewrite the hidden symbols on the transitions, together with the weights. This is also how a transducer is normally depicted, with a sequence of transitions between states, where each transition has two symbols (input and output) and a weight.\n",
    "\n",
    "All the details about WFST and their application to speech recognition can be found in [this](http://www.cs.nyu.edu/~mohri/pub/csl01.pdf) paper by Mohri, et al. One of the prime examples of WFST for speech recognition is the [Kaldi](http://www.kaldi-asr.org) project.\n",
    "\n",
    "### Transducer example\n",
    "\n",
    "An actual transducer is an automaton that converts symbols from one set of values to another. Take this transducer that converts symbols in a following manner:\n",
    "  * convert *a* to *b*\n",
    "  * convert *b to *c\n",
    "  * convert *c to *a\n",
    " \n",
    "By using the excellent [PyFst](http://pyfst.github.io/) library, we can visualize this transducer like this:"
   ]
  },
  {
   "cell_type": "code",
   "execution_count": 34,
   "metadata": {},
   "outputs": [
    {
     "data": {
      "image/svg+xml": [
       "<?xml version=\"1.0\" encoding=\"UTF-8\" standalone=\"no\"?>\n",
       "<!DOCTYPE svg PUBLIC \"-//W3C//DTD SVG 1.1//EN\"\n",
       " \"http://www.w3.org/Graphics/SVG/1.1/DTD/svg11.dtd\">\n",
       "<!-- Generated by graphviz version 2.38.0 (20140413.2041)\n",
       " -->\n",
       "<!-- Title: FST Pages: 1 -->\n",
       "<svg width=\"52pt\" height=\"151pt\"\n",
       " viewBox=\"0.00 0.00 52.00 151.00\" xmlns=\"http://www.w3.org/2000/svg\" xmlns:xlink=\"http://www.w3.org/1999/xlink\">\n",
       "<g id=\"graph0\" class=\"graph\" transform=\"scale(1 1) rotate(0) translate(4 147)\">\n",
       "<title>FST</title>\n",
       "<polygon fill=\"white\" stroke=\"none\" points=\"-4,4 -4,-147 48,-147 48,4 -4,4\"/>\n",
       "<!-- 0 -->\n",
       "<g id=\"node1\" class=\"node\"><title>0</title>\n",
       "<ellipse fill=\"none\" stroke=\"black\" stroke-width=\"2\" cx=\"22\" cy=\"-22\" rx=\"18\" ry=\"18\"/>\n",
       "<ellipse fill=\"none\" stroke=\"black\" stroke-width=\"2\" cx=\"22\" cy=\"-22\" rx=\"22\" ry=\"22\"/>\n",
       "<text text-anchor=\"middle\" x=\"22\" y=\"-18.3\" font-family=\"Times,serif\" font-size=\"14.00\">0</text>\n",
       "</g>\n",
       "<!-- 0&#45;&gt;0 -->\n",
       "<g id=\"edge1\" class=\"edge\"><title>0&#45;&gt;0</title>\n",
       "<path fill=\"none\" stroke=\"black\" d=\"M19.4064,-44.2124C19.1941,-53.7952 20.0586,-62 22,-62 23.183,-62 23.9662,-58.9533 24.3495,-54.4045\"/>\n",
       "<polygon fill=\"black\" stroke=\"black\" points=\"27.8531,-54.2933 24.5936,-44.2124 20.8551,-54.1256 27.8531,-54.2933\"/>\n",
       "<text text-anchor=\"middle\" x=\"22\" y=\"-65.8\" font-family=\"Times,serif\" font-size=\"14.00\">a:b</text>\n",
       "</g>\n",
       "<!-- 0&#45;&gt;0 -->\n",
       "<g id=\"edge2\" class=\"edge\"><title>0&#45;&gt;0</title>\n",
       "<path fill=\"none\" stroke=\"black\" d=\"M17.5194,-43.7173C15.6666,-61.5157 17.1602,-80 22,-80 25.8946,-80 27.6223,-68.031 27.1833,-54.0817\"/>\n",
       "<polygon fill=\"black\" stroke=\"black\" points=\"30.6491,-53.4576 26.4806,-43.7173 23.6651,-53.9312 30.6491,-53.4576\"/>\n",
       "<text text-anchor=\"middle\" x=\"22\" y=\"-83.8\" font-family=\"Times,serif\" font-size=\"14.00\">b:c</text>\n",
       "</g>\n",
       "<!-- 0&#45;&gt;0 -->\n",
       "<g id=\"edge3\" class=\"edge\"><title>0&#45;&gt;0</title>\n",
       "<path fill=\"none\" stroke=\"black\" d=\"M16.2826,-43.3963C12.0962,-68.6024 14.002,-98 22,-98 28.9358,-98 31.2901,-75.8926 29.063,-53.5825\"/>\n",
       "<polygon fill=\"black\" stroke=\"black\" points=\"32.497,-52.8517 27.7174,-43.3963 25.5573,-53.7686 32.497,-52.8517\"/>\n",
       "<text text-anchor=\"middle\" x=\"22\" y=\"-101.8\" font-family=\"Times,serif\" font-size=\"14.00\">c:a</text>\n",
       "</g>\n",
       "</g>\n",
       "</svg>\n"
      ]
     },
     "metadata": {}
    }
   ],
   "source": [
    "f=fst.Transducer()\n",
    "f.add_arc(0,0,'a','b')\n",
    "f.add_arc(0,0,'b','c')\n",
    "f.add_arc(0,0,'c','a')\n",
    "f[0].final=True\n",
    "f"
   ]
  },
  {
   "cell_type": "markdown",
   "metadata": {},
   "source": [
    "Now let's make another transducer, but this will have the same input and output symbols and they will form a sequence. \n",
    "\n",
    "Note that a transducer with identical input and output symbols is simply an automaton (FSA), or otherwise known as an *acceptor*.\n",
    "\n",
    "We will use a helpful *linear_chain* method to generate such an acceptor:"
   ]
  },
  {
   "cell_type": "code",
   "execution_count": 35,
   "metadata": {},
   "outputs": [
    {
     "data": {
      "image/svg+xml": [
       "<?xml version=\"1.0\" encoding=\"UTF-8\" standalone=\"no\"?>\n",
       "<!DOCTYPE svg PUBLIC \"-//W3C//DTD SVG 1.1//EN\"\n",
       " \"http://www.w3.org/Graphics/SVG/1.1/DTD/svg11.dtd\">\n",
       "<!-- Generated by graphviz version 2.38.0 (20140413.2041)\n",
       " -->\n",
       "<!-- Title: FST Pages: 1 -->\n",
       "<svg width=\"344pt\" height=\"52pt\"\n",
       " viewBox=\"0.00 0.00 344.00 52.00\" xmlns=\"http://www.w3.org/2000/svg\" xmlns:xlink=\"http://www.w3.org/1999/xlink\">\n",
       "<g id=\"graph0\" class=\"graph\" transform=\"scale(1 1) rotate(0) translate(4 48)\">\n",
       "<title>FST</title>\n",
       "<polygon fill=\"white\" stroke=\"none\" points=\"-4,4 -4,-48 340,-48 340,4 -4,4\"/>\n",
       "<!-- 0 -->\n",
       "<g id=\"node1\" class=\"node\"><title>0</title>\n",
       "<ellipse fill=\"none\" stroke=\"black\" stroke-width=\"2\" cx=\"18\" cy=\"-22\" rx=\"18\" ry=\"18\"/>\n",
       "<text text-anchor=\"middle\" x=\"18\" y=\"-18.3\" font-family=\"Times,serif\" font-size=\"14.00\">0</text>\n",
       "</g>\n",
       "<!-- 1 -->\n",
       "<g id=\"node2\" class=\"node\"><title>1</title>\n",
       "<ellipse fill=\"none\" stroke=\"black\" cx=\"91\" cy=\"-22\" rx=\"18\" ry=\"18\"/>\n",
       "<text text-anchor=\"middle\" x=\"91\" y=\"-18.3\" font-family=\"Times,serif\" font-size=\"14.00\">1</text>\n",
       "</g>\n",
       "<!-- 0&#45;&gt;1 -->\n",
       "<g id=\"edge1\" class=\"edge\"><title>0&#45;&gt;1</title>\n",
       "<path fill=\"none\" stroke=\"black\" d=\"M36.1871,-22C44.2105,-22 53.9525,-22 62.9309,-22\"/>\n",
       "<polygon fill=\"black\" stroke=\"black\" points=\"62.9712,-25.5001 72.9712,-22 62.9711,-18.5001 62.9712,-25.5001\"/>\n",
       "<text text-anchor=\"middle\" x=\"54.5\" y=\"-25.8\" font-family=\"Times,serif\" font-size=\"14.00\">a</text>\n",
       "</g>\n",
       "<!-- 2 -->\n",
       "<g id=\"node3\" class=\"node\"><title>2</title>\n",
       "<ellipse fill=\"none\" stroke=\"black\" cx=\"164\" cy=\"-22\" rx=\"18\" ry=\"18\"/>\n",
       "<text text-anchor=\"middle\" x=\"164\" y=\"-18.3\" font-family=\"Times,serif\" font-size=\"14.00\">2</text>\n",
       "</g>\n",
       "<!-- 1&#45;&gt;2 -->\n",
       "<g id=\"edge2\" class=\"edge\"><title>1&#45;&gt;2</title>\n",
       "<path fill=\"none\" stroke=\"black\" d=\"M109.187,-22C117.211,-22 126.953,-22 135.931,-22\"/>\n",
       "<polygon fill=\"black\" stroke=\"black\" points=\"135.971,-25.5001 145.971,-22 135.971,-18.5001 135.971,-25.5001\"/>\n",
       "<text text-anchor=\"middle\" x=\"127.5\" y=\"-25.8\" font-family=\"Times,serif\" font-size=\"14.00\">a</text>\n",
       "</g>\n",
       "<!-- 3 -->\n",
       "<g id=\"node4\" class=\"node\"><title>3</title>\n",
       "<ellipse fill=\"none\" stroke=\"black\" cx=\"237\" cy=\"-22\" rx=\"18\" ry=\"18\"/>\n",
       "<text text-anchor=\"middle\" x=\"237\" y=\"-18.3\" font-family=\"Times,serif\" font-size=\"14.00\">3</text>\n",
       "</g>\n",
       "<!-- 2&#45;&gt;3 -->\n",
       "<g id=\"edge3\" class=\"edge\"><title>2&#45;&gt;3</title>\n",
       "<path fill=\"none\" stroke=\"black\" d=\"M182.187,-22C190.211,-22 199.953,-22 208.931,-22\"/>\n",
       "<polygon fill=\"black\" stroke=\"black\" points=\"208.971,-25.5001 218.971,-22 208.971,-18.5001 208.971,-25.5001\"/>\n",
       "<text text-anchor=\"middle\" x=\"200.5\" y=\"-25.8\" font-family=\"Times,serif\" font-size=\"14.00\">c</text>\n",
       "</g>\n",
       "<!-- 4 -->\n",
       "<g id=\"node5\" class=\"node\"><title>4</title>\n",
       "<ellipse fill=\"none\" stroke=\"black\" cx=\"314\" cy=\"-22\" rx=\"18\" ry=\"18\"/>\n",
       "<ellipse fill=\"none\" stroke=\"black\" cx=\"314\" cy=\"-22\" rx=\"22\" ry=\"22\"/>\n",
       "<text text-anchor=\"middle\" x=\"314\" y=\"-18.3\" font-family=\"Times,serif\" font-size=\"14.00\">4</text>\n",
       "</g>\n",
       "<!-- 3&#45;&gt;4 -->\n",
       "<g id=\"edge4\" class=\"edge\"><title>3&#45;&gt;4</title>\n",
       "<path fill=\"none\" stroke=\"black\" d=\"M255.019,-22C262.847,-22 272.392,-22 281.461,-22\"/>\n",
       "<polygon fill=\"black\" stroke=\"black\" points=\"281.756,-25.5001 291.756,-22 281.756,-18.5001 281.756,-25.5001\"/>\n",
       "<text text-anchor=\"middle\" x=\"273.5\" y=\"-25.8\" font-family=\"Times,serif\" font-size=\"14.00\">b</text>\n",
       "</g>\n",
       "</g>\n",
       "</svg>\n"
      ]
     },
     "metadata": {}
    }
   ],
   "source": [
    "i=fst.linear_chain(['a','a','c','b'],syms=f.isyms)\n",
    "i"
   ]
  },
  {
   "cell_type": "markdown",
   "metadata": {},
   "source": [
    "### Composition\n",
    "\n",
    "The most useful method used in a transducer is composition. This operation takes two transducers, e.g. one converting from symbol space A into B, and second converting from B into C and creates a third transducer that converts from A into C that is like a combination of the original ones.\n",
    "\n",
    "We can use this method (denoted by the >> operator) to process the input chain transducer using our token converter above. The project_output method simply copies the output symbols to the input in order to discard the input symbols:"
   ]
  },
  {
   "cell_type": "code",
   "execution_count": 36,
   "metadata": {},
   "outputs": [
    {
     "data": {
      "image/svg+xml": [
       "<?xml version=\"1.0\" encoding=\"UTF-8\" standalone=\"no\"?>\n",
       "<!DOCTYPE svg PUBLIC \"-//W3C//DTD SVG 1.1//EN\"\n",
       " \"http://www.w3.org/Graphics/SVG/1.1/DTD/svg11.dtd\">\n",
       "<!-- Generated by graphviz version 2.38.0 (20140413.2041)\n",
       " -->\n",
       "<!-- Title: FST Pages: 1 -->\n",
       "<svg width=\"344pt\" height=\"52pt\"\n",
       " viewBox=\"0.00 0.00 344.00 52.00\" xmlns=\"http://www.w3.org/2000/svg\" xmlns:xlink=\"http://www.w3.org/1999/xlink\">\n",
       "<g id=\"graph0\" class=\"graph\" transform=\"scale(1 1) rotate(0) translate(4 48)\">\n",
       "<title>FST</title>\n",
       "<polygon fill=\"white\" stroke=\"none\" points=\"-4,4 -4,-48 340,-48 340,4 -4,4\"/>\n",
       "<!-- 0 -->\n",
       "<g id=\"node1\" class=\"node\"><title>0</title>\n",
       "<ellipse fill=\"none\" stroke=\"black\" stroke-width=\"2\" cx=\"18\" cy=\"-22\" rx=\"18\" ry=\"18\"/>\n",
       "<text text-anchor=\"middle\" x=\"18\" y=\"-18.3\" font-family=\"Times,serif\" font-size=\"14.00\">0</text>\n",
       "</g>\n",
       "<!-- 1 -->\n",
       "<g id=\"node2\" class=\"node\"><title>1</title>\n",
       "<ellipse fill=\"none\" stroke=\"black\" cx=\"91\" cy=\"-22\" rx=\"18\" ry=\"18\"/>\n",
       "<text text-anchor=\"middle\" x=\"91\" y=\"-18.3\" font-family=\"Times,serif\" font-size=\"14.00\">1</text>\n",
       "</g>\n",
       "<!-- 0&#45;&gt;1 -->\n",
       "<g id=\"edge1\" class=\"edge\"><title>0&#45;&gt;1</title>\n",
       "<path fill=\"none\" stroke=\"black\" d=\"M36.1871,-22C44.2105,-22 53.9525,-22 62.9309,-22\"/>\n",
       "<polygon fill=\"black\" stroke=\"black\" points=\"62.9712,-25.5001 72.9712,-22 62.9711,-18.5001 62.9712,-25.5001\"/>\n",
       "<text text-anchor=\"middle\" x=\"54.5\" y=\"-25.8\" font-family=\"Times,serif\" font-size=\"14.00\">b</text>\n",
       "</g>\n",
       "<!-- 2 -->\n",
       "<g id=\"node3\" class=\"node\"><title>2</title>\n",
       "<ellipse fill=\"none\" stroke=\"black\" cx=\"164\" cy=\"-22\" rx=\"18\" ry=\"18\"/>\n",
       "<text text-anchor=\"middle\" x=\"164\" y=\"-18.3\" font-family=\"Times,serif\" font-size=\"14.00\">2</text>\n",
       "</g>\n",
       "<!-- 1&#45;&gt;2 -->\n",
       "<g id=\"edge2\" class=\"edge\"><title>1&#45;&gt;2</title>\n",
       "<path fill=\"none\" stroke=\"black\" d=\"M109.187,-22C117.211,-22 126.953,-22 135.931,-22\"/>\n",
       "<polygon fill=\"black\" stroke=\"black\" points=\"135.971,-25.5001 145.971,-22 135.971,-18.5001 135.971,-25.5001\"/>\n",
       "<text text-anchor=\"middle\" x=\"127.5\" y=\"-25.8\" font-family=\"Times,serif\" font-size=\"14.00\">b</text>\n",
       "</g>\n",
       "<!-- 3 -->\n",
       "<g id=\"node4\" class=\"node\"><title>3</title>\n",
       "<ellipse fill=\"none\" stroke=\"black\" cx=\"237\" cy=\"-22\" rx=\"18\" ry=\"18\"/>\n",
       "<text text-anchor=\"middle\" x=\"237\" y=\"-18.3\" font-family=\"Times,serif\" font-size=\"14.00\">3</text>\n",
       "</g>\n",
       "<!-- 2&#45;&gt;3 -->\n",
       "<g id=\"edge3\" class=\"edge\"><title>2&#45;&gt;3</title>\n",
       "<path fill=\"none\" stroke=\"black\" d=\"M182.187,-22C190.211,-22 199.953,-22 208.931,-22\"/>\n",
       "<polygon fill=\"black\" stroke=\"black\" points=\"208.971,-25.5001 218.971,-22 208.971,-18.5001 208.971,-25.5001\"/>\n",
       "<text text-anchor=\"middle\" x=\"200.5\" y=\"-25.8\" font-family=\"Times,serif\" font-size=\"14.00\">a</text>\n",
       "</g>\n",
       "<!-- 4 -->\n",
       "<g id=\"node5\" class=\"node\"><title>4</title>\n",
       "<ellipse fill=\"none\" stroke=\"black\" cx=\"314\" cy=\"-22\" rx=\"18\" ry=\"18\"/>\n",
       "<ellipse fill=\"none\" stroke=\"black\" cx=\"314\" cy=\"-22\" rx=\"22\" ry=\"22\"/>\n",
       "<text text-anchor=\"middle\" x=\"314\" y=\"-18.3\" font-family=\"Times,serif\" font-size=\"14.00\">4</text>\n",
       "</g>\n",
       "<!-- 3&#45;&gt;4 -->\n",
       "<g id=\"edge4\" class=\"edge\"><title>3&#45;&gt;4</title>\n",
       "<path fill=\"none\" stroke=\"black\" d=\"M255.019,-22C262.847,-22 272.392,-22 281.461,-22\"/>\n",
       "<polygon fill=\"black\" stroke=\"black\" points=\"281.756,-25.5001 291.756,-22 281.756,-18.5001 281.756,-25.5001\"/>\n",
       "<text text-anchor=\"middle\" x=\"273.5\" y=\"-25.8\" font-family=\"Times,serif\" font-size=\"14.00\">c</text>\n",
       "</g>\n",
       "</g>\n",
       "</svg>\n"
      ]
     },
     "metadata": {}
    }
   ],
   "source": [
    "o=i>>f\n",
    "o.project_output()\n",
    "o"
   ]
  },
  {
   "cell_type": "markdown",
   "metadata": {},
   "source": [
    "It pays off to think about this for a while until it's clear what is actually going on here. For more help, I recommend reading some of the docs at the [OpenFST](http://www.openfst.org/twiki/bin/view/FST/WebHome) website.\n",
    "\n",
    "We can also process several sequences at once. Here we create a transducer that is a union of 3 sub-transducers. We will also expand our definition of the new symbols. We have to remove epsilon, because (apart from being uneccessary) jupyter notebook has issues with printing unicode characters in SVG:"
   ]
  },
  {
   "cell_type": "code",
   "execution_count": 37,
   "metadata": {},
   "outputs": [
    {
     "data": {
      "image/svg+xml": [
       "<?xml version=\"1.0\" encoding=\"UTF-8\" standalone=\"no\"?>\n",
       "<!DOCTYPE svg PUBLIC \"-//W3C//DTD SVG 1.1//EN\"\n",
       " \"http://www.w3.org/Graphics/SVG/1.1/DTD/svg11.dtd\">\n",
       "<!-- Generated by graphviz version 2.38.0 (20140413.2041)\n",
       " -->\n",
       "<!-- Title: FST Pages: 1 -->\n",
       "<svg width=\"432pt\" height=\"181pt\"\n",
       " viewBox=\"0.00 0.00 431.98 181.50\" xmlns=\"http://www.w3.org/2000/svg\" xmlns:xlink=\"http://www.w3.org/1999/xlink\">\n",
       "<g id=\"graph0\" class=\"graph\" transform=\"scale(1 1) rotate(0) translate(4 177.498)\">\n",
       "<title>FST</title>\n",
       "<polygon fill=\"white\" stroke=\"none\" points=\"-4,4 -4,-177.498 427.983,-177.498 427.983,4 -4,4\"/>\n",
       "<!-- 0 -->\n",
       "<g id=\"node1\" class=\"node\"><title>0</title>\n",
       "<ellipse fill=\"none\" stroke=\"black\" stroke-width=\"2\" cx=\"18\" cy=\"-85\" rx=\"18\" ry=\"18\"/>\n",
       "<text text-anchor=\"middle\" x=\"18\" y=\"-81.3\" font-family=\"Times,serif\" font-size=\"14.00\">0</text>\n",
       "</g>\n",
       "<!-- 6 -->\n",
       "<g id=\"node2\" class=\"node\"><title>6</title>\n",
       "<ellipse fill=\"none\" stroke=\"black\" cx=\"92.4983\" cy=\"-140\" rx=\"18\" ry=\"18\"/>\n",
       "<text text-anchor=\"middle\" x=\"92.4983\" y=\"-136.3\" font-family=\"Times,serif\" font-size=\"14.00\">6</text>\n",
       "</g>\n",
       "<!-- 0&#45;&gt;6 -->\n",
       "<g id=\"edge1\" class=\"edge\"><title>0&#45;&gt;6</title>\n",
       "<path fill=\"none\" stroke=\"black\" d=\"M32.9784,-95.6046C43.3088,-103.442 57.5791,-114.268 69.4415,-123.267\"/>\n",
       "<polygon fill=\"black\" stroke=\"black\" points=\"67.4805,-126.172 77.5628,-129.428 71.7113,-120.596 67.4805,-126.172\"/>\n",
       "<text text-anchor=\"middle\" x=\"54.5\" y=\"-117.8\" font-family=\"Times,serif\" font-size=\"14.00\">a</text>\n",
       "</g>\n",
       "<!-- 11 -->\n",
       "<g id=\"node3\" class=\"node\"><title>11</title>\n",
       "<ellipse fill=\"none\" stroke=\"black\" cx=\"92.4983\" cy=\"-85\" rx=\"19.4965\" ry=\"19.4965\"/>\n",
       "<text text-anchor=\"middle\" x=\"92.4983\" y=\"-81.3\" font-family=\"Times,serif\" font-size=\"14.00\">11</text>\n",
       "</g>\n",
       "<!-- 0&#45;&gt;11 -->\n",
       "<g id=\"edge2\" class=\"edge\"><title>0&#45;&gt;11</title>\n",
       "<path fill=\"none\" stroke=\"black\" d=\"M36.1811,-85C44.1264,-85 53.7803,-85 62.785,-85\"/>\n",
       "<polygon fill=\"black\" stroke=\"black\" points=\"62.9165,-88.5001 72.9164,-85 62.9164,-81.5001 62.9165,-88.5001\"/>\n",
       "<text text-anchor=\"middle\" x=\"54.5\" y=\"-88.8\" font-family=\"Times,serif\" font-size=\"14.00\">g</text>\n",
       "</g>\n",
       "<!-- 1 -->\n",
       "<g id=\"node4\" class=\"node\"><title>1</title>\n",
       "<ellipse fill=\"none\" stroke=\"black\" cx=\"92.4983\" cy=\"-30\" rx=\"18\" ry=\"18\"/>\n",
       "<text text-anchor=\"middle\" x=\"92.4983\" y=\"-26.3\" font-family=\"Times,serif\" font-size=\"14.00\">1</text>\n",
       "</g>\n",
       "<!-- 0&#45;&gt;1 -->\n",
       "<g id=\"edge3\" class=\"edge\"><title>0&#45;&gt;1</title>\n",
       "<path fill=\"none\" stroke=\"black\" d=\"M32.9784,-74.3954C43.3088,-66.5584 57.5791,-55.7324 69.4415,-46.7331\"/>\n",
       "<polygon fill=\"black\" stroke=\"black\" points=\"71.7113,-49.4044 77.5628,-40.572 67.4805,-43.8276 71.7113,-49.4044\"/>\n",
       "<text text-anchor=\"middle\" x=\"54.5\" y=\"-63.8\" font-family=\"Times,serif\" font-size=\"14.00\">a</text>\n",
       "</g>\n",
       "<!-- 7 -->\n",
       "<g id=\"node9\" class=\"node\"><title>7</title>\n",
       "<ellipse fill=\"none\" stroke=\"black\" cx=\"168.495\" cy=\"-140\" rx=\"18\" ry=\"18\"/>\n",
       "<text text-anchor=\"middle\" x=\"168.495\" y=\"-136.3\" font-family=\"Times,serif\" font-size=\"14.00\">7</text>\n",
       "</g>\n",
       "<!-- 6&#45;&gt;7 -->\n",
       "<g id=\"edge8\" class=\"edge\"><title>6&#45;&gt;7</title>\n",
       "<path fill=\"none\" stroke=\"black\" d=\"M110.661,-140C119.44,-140 130.334,-140 140.229,-140\"/>\n",
       "<polygon fill=\"black\" stroke=\"black\" points=\"140.426,-143.5 150.426,-140 140.426,-136.5 140.426,-143.5\"/>\n",
       "<text text-anchor=\"middle\" x=\"130.497\" y=\"-143.8\" font-family=\"Times,serif\" font-size=\"14.00\">b</text>\n",
       "</g>\n",
       "<!-- 12 -->\n",
       "<g id=\"node13\" class=\"node\"><title>12</title>\n",
       "<ellipse fill=\"none\" stroke=\"black\" cx=\"168.495\" cy=\"-85\" rx=\"19.4965\" ry=\"19.4965\"/>\n",
       "<text text-anchor=\"middle\" x=\"168.495\" y=\"-81.3\" font-family=\"Times,serif\" font-size=\"14.00\">12</text>\n",
       "</g>\n",
       "<!-- 11&#45;&gt;12 -->\n",
       "<g id=\"edge12\" class=\"edge\"><title>11&#45;&gt;12</title>\n",
       "<path fill=\"none\" stroke=\"black\" d=\"M112.171,-85C120.233,-85 129.849,-85 138.785,-85\"/>\n",
       "<polygon fill=\"black\" stroke=\"black\" points=\"138.828,-88.5001 148.828,-85 138.828,-81.5001 138.828,-88.5001\"/>\n",
       "<text text-anchor=\"middle\" x=\"130.497\" y=\"-88.8\" font-family=\"Times,serif\" font-size=\"14.00\">h</text>\n",
       "</g>\n",
       "<!-- 2 -->\n",
       "<g id=\"node5\" class=\"node\"><title>2</title>\n",
       "<ellipse fill=\"none\" stroke=\"black\" cx=\"168.495\" cy=\"-30\" rx=\"18\" ry=\"18\"/>\n",
       "<text text-anchor=\"middle\" x=\"168.495\" y=\"-26.3\" font-family=\"Times,serif\" font-size=\"14.00\">2</text>\n",
       "</g>\n",
       "<!-- 1&#45;&gt;2 -->\n",
       "<g id=\"edge4\" class=\"edge\"><title>1&#45;&gt;2</title>\n",
       "<path fill=\"none\" stroke=\"black\" d=\"M110.661,-30C119.44,-30 130.334,-30 140.229,-30\"/>\n",
       "<polygon fill=\"black\" stroke=\"black\" points=\"140.426,-33.5001 150.426,-30 140.426,-26.5001 140.426,-33.5001\"/>\n",
       "<text text-anchor=\"middle\" x=\"130.497\" y=\"-33.8\" font-family=\"Times,serif\" font-size=\"14.00\">b</text>\n",
       "</g>\n",
       "<!-- 3 -->\n",
       "<g id=\"node6\" class=\"node\"><title>3</title>\n",
       "<ellipse fill=\"none\" stroke=\"black\" cx=\"244.491\" cy=\"-29\" rx=\"18\" ry=\"18\"/>\n",
       "<text text-anchor=\"middle\" x=\"244.491\" y=\"-25.3\" font-family=\"Times,serif\" font-size=\"14.00\">3</text>\n",
       "</g>\n",
       "<!-- 2&#45;&gt;3 -->\n",
       "<g id=\"edge5\" class=\"edge\"><title>2&#45;&gt;3</title>\n",
       "<path fill=\"none\" stroke=\"black\" d=\"M186.657,-29.7681C195.436,-29.6494 206.33,-29.5022 216.225,-29.3685\"/>\n",
       "<polygon fill=\"black\" stroke=\"black\" points=\"216.47,-32.8656 226.422,-29.2307 216.376,-25.8662 216.47,-32.8656\"/>\n",
       "<text text-anchor=\"middle\" x=\"206.493\" y=\"-33.8\" font-family=\"Times,serif\" font-size=\"14.00\">c</text>\n",
       "</g>\n",
       "<!-- 4 -->\n",
       "<g id=\"node7\" class=\"node\"><title>4</title>\n",
       "<ellipse fill=\"none\" stroke=\"black\" cx=\"320.488\" cy=\"-26\" rx=\"18\" ry=\"18\"/>\n",
       "<text text-anchor=\"middle\" x=\"320.488\" y=\"-22.3\" font-family=\"Times,serif\" font-size=\"14.00\">4</text>\n",
       "</g>\n",
       "<!-- 3&#45;&gt;4 -->\n",
       "<g id=\"edge6\" class=\"edge\"><title>3&#45;&gt;4</title>\n",
       "<path fill=\"none\" stroke=\"black\" d=\"M262.654,-28.3042C271.433,-27.9483 282.327,-27.5066 292.222,-27.1054\"/>\n",
       "<polygon fill=\"black\" stroke=\"black\" points=\"292.569,-30.5943 302.419,-26.692 292.285,-23.6001 292.569,-30.5943\"/>\n",
       "<text text-anchor=\"middle\" x=\"282.49\" y=\"-31.8\" font-family=\"Times,serif\" font-size=\"14.00\">d</text>\n",
       "</g>\n",
       "<!-- 5 -->\n",
       "<g id=\"node8\" class=\"node\"><title>5</title>\n",
       "<ellipse fill=\"none\" stroke=\"black\" cx=\"400.484\" cy=\"-22\" rx=\"18\" ry=\"18\"/>\n",
       "<ellipse fill=\"none\" stroke=\"black\" cx=\"400.484\" cy=\"-22\" rx=\"22\" ry=\"22\"/>\n",
       "<text text-anchor=\"middle\" x=\"400.484\" y=\"-18.3\" font-family=\"Times,serif\" font-size=\"14.00\">5</text>\n",
       "</g>\n",
       "<!-- 4&#45;&gt;5 -->\n",
       "<g id=\"edge7\" class=\"edge\"><title>4&#45;&gt;5</title>\n",
       "<path fill=\"none\" stroke=\"black\" d=\"M338.798,-25.1123C347.458,-24.6681 358.211,-24.1167 368.249,-23.6019\"/>\n",
       "<polygon fill=\"black\" stroke=\"black\" points=\"368.525,-27.0924 378.332,-23.0848 368.166,-20.1016 368.525,-27.0924\"/>\n",
       "<text text-anchor=\"middle\" x=\"358.486\" y=\"-28.8\" font-family=\"Times,serif\" font-size=\"14.00\">e</text>\n",
       "</g>\n",
       "<!-- 8 -->\n",
       "<g id=\"node10\" class=\"node\"><title>8</title>\n",
       "<ellipse fill=\"none\" stroke=\"black\" cx=\"244.491\" cy=\"-142\" rx=\"18\" ry=\"18\"/>\n",
       "<text text-anchor=\"middle\" x=\"244.491\" y=\"-138.3\" font-family=\"Times,serif\" font-size=\"14.00\">8</text>\n",
       "</g>\n",
       "<!-- 7&#45;&gt;8 -->\n",
       "<g id=\"edge9\" class=\"edge\"><title>7&#45;&gt;8</title>\n",
       "<path fill=\"none\" stroke=\"black\" d=\"M186.657,-140.464C195.436,-140.701 206.33,-140.996 216.225,-141.263\"/>\n",
       "<polygon fill=\"black\" stroke=\"black\" points=\"216.331,-144.767 226.422,-141.539 216.52,-137.77 216.331,-144.767\"/>\n",
       "<text text-anchor=\"middle\" x=\"206.493\" y=\"-144.8\" font-family=\"Times,serif\" font-size=\"14.00\">x</text>\n",
       "</g>\n",
       "<!-- 9 -->\n",
       "<g id=\"node11\" class=\"node\"><title>9</title>\n",
       "<ellipse fill=\"none\" stroke=\"black\" cx=\"320.488\" cy=\"-149\" rx=\"18\" ry=\"18\"/>\n",
       "<text text-anchor=\"middle\" x=\"320.488\" y=\"-145.3\" font-family=\"Times,serif\" font-size=\"14.00\">9</text>\n",
       "</g>\n",
       "<!-- 8&#45;&gt;9 -->\n",
       "<g id=\"edge10\" class=\"edge\"><title>8&#45;&gt;9</title>\n",
       "<path fill=\"none\" stroke=\"black\" d=\"M262.654,-143.624C271.433,-144.454 282.327,-145.485 292.222,-146.421\"/>\n",
       "<polygon fill=\"black\" stroke=\"black\" points=\"292.133,-149.928 302.419,-147.385 292.793,-142.959 292.133,-149.928\"/>\n",
       "<text text-anchor=\"middle\" x=\"282.49\" y=\"-148.8\" font-family=\"Times,serif\" font-size=\"14.00\">y</text>\n",
       "</g>\n",
       "<!-- 10 -->\n",
       "<g id=\"node12\" class=\"node\"><title>10</title>\n",
       "<ellipse fill=\"none\" stroke=\"black\" cx=\"400.484\" cy=\"-150\" rx=\"19.4968\" ry=\"19.4968\"/>\n",
       "<ellipse fill=\"none\" stroke=\"black\" cx=\"400.484\" cy=\"-150\" rx=\"23.4965\" ry=\"23.4965\"/>\n",
       "<text text-anchor=\"middle\" x=\"400.484\" y=\"-146.3\" font-family=\"Times,serif\" font-size=\"14.00\">10</text>\n",
       "</g>\n",
       "<!-- 9&#45;&gt;10 -->\n",
       "<g id=\"edge11\" class=\"edge\"><title>9&#45;&gt;10</title>\n",
       "<path fill=\"none\" stroke=\"black\" d=\"M338.798,-149.222C347.037,-149.328 357.171,-149.457 366.781,-149.581\"/>\n",
       "<polygon fill=\"black\" stroke=\"black\" points=\"366.845,-153.082 376.889,-149.71 366.934,-146.082 366.845,-153.082\"/>\n",
       "<text text-anchor=\"middle\" x=\"358.486\" y=\"-152.8\" font-family=\"Times,serif\" font-size=\"14.00\">z</text>\n",
       "</g>\n",
       "<!-- 13 -->\n",
       "<g id=\"node14\" class=\"node\"><title>13</title>\n",
       "<ellipse fill=\"none\" stroke=\"black\" cx=\"244.491\" cy=\"-85\" rx=\"19.4965\" ry=\"19.4965\"/>\n",
       "<text text-anchor=\"middle\" x=\"244.491\" y=\"-81.3\" font-family=\"Times,serif\" font-size=\"14.00\">13</text>\n",
       "</g>\n",
       "<!-- 12&#45;&gt;13 -->\n",
       "<g id=\"edge13\" class=\"edge\"><title>12&#45;&gt;13</title>\n",
       "<path fill=\"none\" stroke=\"black\" d=\"M188.167,-85C196.23,-85 205.845,-85 214.781,-85\"/>\n",
       "<polygon fill=\"black\" stroke=\"black\" points=\"214.825,-88.5001 224.825,-85 214.825,-81.5001 214.825,-88.5001\"/>\n",
       "<text text-anchor=\"middle\" x=\"206.493\" y=\"-88.8\" font-family=\"Times,serif\" font-size=\"14.00\">c</text>\n",
       "</g>\n",
       "<!-- 14 -->\n",
       "<g id=\"node15\" class=\"node\"><title>14</title>\n",
       "<ellipse fill=\"none\" stroke=\"black\" cx=\"320.488\" cy=\"-85\" rx=\"19.4965\" ry=\"19.4965\"/>\n",
       "<text text-anchor=\"middle\" x=\"320.488\" y=\"-81.3\" font-family=\"Times,serif\" font-size=\"14.00\">14</text>\n",
       "</g>\n",
       "<!-- 13&#45;&gt;14 -->\n",
       "<g id=\"edge14\" class=\"edge\"><title>13&#45;&gt;14</title>\n",
       "<path fill=\"none\" stroke=\"black\" d=\"M264.164,-85C272.226,-85 281.842,-85 290.778,-85\"/>\n",
       "<polygon fill=\"black\" stroke=\"black\" points=\"290.821,-88.5001 300.821,-85 290.821,-81.5001 290.821,-88.5001\"/>\n",
       "<text text-anchor=\"middle\" x=\"282.49\" y=\"-88.8\" font-family=\"Times,serif\" font-size=\"14.00\">d</text>\n",
       "</g>\n",
       "<!-- 15 -->\n",
       "<g id=\"node16\" class=\"node\"><title>15</title>\n",
       "<ellipse fill=\"none\" stroke=\"black\" cx=\"400.484\" cy=\"-85\" rx=\"19.4968\" ry=\"19.4968\"/>\n",
       "<ellipse fill=\"none\" stroke=\"black\" cx=\"400.484\" cy=\"-85\" rx=\"23.4965\" ry=\"23.4965\"/>\n",
       "<text text-anchor=\"middle\" x=\"400.484\" y=\"-81.3\" font-family=\"Times,serif\" font-size=\"14.00\">15</text>\n",
       "</g>\n",
       "<!-- 14&#45;&gt;15 -->\n",
       "<g id=\"edge15\" class=\"edge\"><title>14&#45;&gt;15</title>\n",
       "<path fill=\"none\" stroke=\"black\" d=\"M340.369,-85C348.275,-85 357.701,-85 366.678,-85\"/>\n",
       "<polygon fill=\"black\" stroke=\"black\" points=\"366.892,-88.5001 376.892,-85 366.892,-81.5001 366.892,-88.5001\"/>\n",
       "<text text-anchor=\"middle\" x=\"358.486\" y=\"-88.8\" font-family=\"Times,serif\" font-size=\"14.00\">e</text>\n",
       "</g>\n",
       "</g>\n",
       "</svg>\n"
      ]
     },
     "metadata": {}
    }
   ],
   "source": [
    "f=fst.Transducer()\n",
    "f.add_arc(0,0,'a','b')\n",
    "f.add_arc(0,0,'b','c')\n",
    "f.add_arc(0,0,'c','a')\n",
    "f.add_arc(0,0,'d','f')\n",
    "f.add_arc(0,0,'e','g')\n",
    "f.add_arc(0,0,'f','h')\n",
    "f.add_arc(0,0,'g','e')\n",
    "f.add_arc(0,0,'h','f')\n",
    "f.add_arc(0,0,'x','x')\n",
    "f.add_arc(0,0,'y','y')\n",
    "f.add_arc(0,0,'z','z')\n",
    "f[0].final=True\n",
    "\n",
    "i1=fst.linear_chain(['a','b','c','d','e'],syms=f.isyms)\n",
    "i2=fst.linear_chain(['a','b','x','y','z'],syms=f.isyms)\n",
    "i3=fst.linear_chain(['g','h','c','d','e'],syms=f.isyms)\n",
    "i=i1.union(i2)\n",
    "i=i.union(i3)\n",
    "i.remove_epsilon()\n",
    "i"
   ]
  },
  {
   "cell_type": "markdown",
   "metadata": {},
   "source": [
    "Now, this graph can be made more efficient by using determinization and minimization. Note that the graph below is equivalent to the one above, but has less states and transitions. This is especially useful with big graphs:"
   ]
  },
  {
   "cell_type": "code",
   "execution_count": 38,
   "metadata": {},
   "outputs": [
    {
     "data": {
      "image/svg+xml": [
       "<?xml version=\"1.0\" encoding=\"UTF-8\" standalone=\"no\"?>\n",
       "<!DOCTYPE svg PUBLIC \"-//W3C//DTD SVG 1.1//EN\"\n",
       " \"http://www.w3.org/Graphics/SVG/1.1/DTD/svg11.dtd\">\n",
       "<!-- Generated by graphviz version 2.38.0 (20140413.2041)\n",
       " -->\n",
       "<!-- Title: FST Pages: 1 -->\n",
       "<svg width=\"417pt\" height=\"120pt\"\n",
       " viewBox=\"0.00 0.00 417.00 120.00\" xmlns=\"http://www.w3.org/2000/svg\" xmlns:xlink=\"http://www.w3.org/1999/xlink\">\n",
       "<g id=\"graph0\" class=\"graph\" transform=\"scale(1 1) rotate(0) translate(4 116)\">\n",
       "<title>FST</title>\n",
       "<polygon fill=\"white\" stroke=\"none\" points=\"-4,4 -4,-116 413,-116 413,4 -4,4\"/>\n",
       "<!-- 0 -->\n",
       "<g id=\"node1\" class=\"node\"><title>0</title>\n",
       "<ellipse fill=\"none\" stroke=\"black\" stroke-width=\"2\" cx=\"18\" cy=\"-47\" rx=\"18\" ry=\"18\"/>\n",
       "<text text-anchor=\"middle\" x=\"18\" y=\"-43.3\" font-family=\"Times,serif\" font-size=\"14.00\">0</text>\n",
       "</g>\n",
       "<!-- 1 -->\n",
       "<g id=\"node2\" class=\"node\"><title>1</title>\n",
       "<ellipse fill=\"none\" stroke=\"black\" cx=\"91\" cy=\"-72\" rx=\"18\" ry=\"18\"/>\n",
       "<text text-anchor=\"middle\" x=\"91\" y=\"-68.3\" font-family=\"Times,serif\" font-size=\"14.00\">1</text>\n",
       "</g>\n",
       "<!-- 0&#45;&gt;1 -->\n",
       "<g id=\"edge1\" class=\"edge\"><title>0&#45;&gt;1</title>\n",
       "<path fill=\"none\" stroke=\"black\" d=\"M35.111,-52.6729C43.6134,-55.6667 54.2564,-59.4142 63.9015,-62.8104\"/>\n",
       "<polygon fill=\"black\" stroke=\"black\" points=\"62.8652,-66.1561 73.46,-66.1761 65.1901,-59.5534 62.8652,-66.1561\"/>\n",
       "<text text-anchor=\"middle\" x=\"54.5\" y=\"-63.8\" font-family=\"Times,serif\" font-size=\"14.00\">a</text>\n",
       "</g>\n",
       "<!-- 2 -->\n",
       "<g id=\"node3\" class=\"node\"><title>2</title>\n",
       "<ellipse fill=\"none\" stroke=\"black\" cx=\"91\" cy=\"-18\" rx=\"18\" ry=\"18\"/>\n",
       "<text text-anchor=\"middle\" x=\"91\" y=\"-14.3\" font-family=\"Times,serif\" font-size=\"14.00\">2</text>\n",
       "</g>\n",
       "<!-- 0&#45;&gt;2 -->\n",
       "<g id=\"edge2\" class=\"edge\"><title>0&#45;&gt;2</title>\n",
       "<path fill=\"none\" stroke=\"black\" d=\"M35.111,-40.4195C43.8257,-36.8599 54.7891,-32.3819 64.6219,-28.3657\"/>\n",
       "<polygon fill=\"black\" stroke=\"black\" points=\"66.0187,-31.576 73.9528,-24.5545 63.3717,-25.0957 66.0187,-31.576\"/>\n",
       "<text text-anchor=\"middle\" x=\"54.5\" y=\"-36.8\" font-family=\"Times,serif\" font-size=\"14.00\">g</text>\n",
       "</g>\n",
       "<!-- 3 -->\n",
       "<g id=\"node4\" class=\"node\"><title>3</title>\n",
       "<ellipse fill=\"none\" stroke=\"black\" cx=\"164\" cy=\"-72\" rx=\"18\" ry=\"18\"/>\n",
       "<text text-anchor=\"middle\" x=\"164\" y=\"-68.3\" font-family=\"Times,serif\" font-size=\"14.00\">3</text>\n",
       "</g>\n",
       "<!-- 1&#45;&gt;3 -->\n",
       "<g id=\"edge3\" class=\"edge\"><title>1&#45;&gt;3</title>\n",
       "<path fill=\"none\" stroke=\"black\" d=\"M109.187,-72C117.211,-72 126.953,-72 135.931,-72\"/>\n",
       "<polygon fill=\"black\" stroke=\"black\" points=\"135.971,-75.5001 145.971,-72 135.971,-68.5001 135.971,-75.5001\"/>\n",
       "<text text-anchor=\"middle\" x=\"127.5\" y=\"-75.8\" font-family=\"Times,serif\" font-size=\"14.00\">b</text>\n",
       "</g>\n",
       "<!-- 4 -->\n",
       "<g id=\"node5\" class=\"node\"><title>4</title>\n",
       "<ellipse fill=\"none\" stroke=\"black\" cx=\"164\" cy=\"-18\" rx=\"18\" ry=\"18\"/>\n",
       "<text text-anchor=\"middle\" x=\"164\" y=\"-14.3\" font-family=\"Times,serif\" font-size=\"14.00\">4</text>\n",
       "</g>\n",
       "<!-- 2&#45;&gt;4 -->\n",
       "<g id=\"edge4\" class=\"edge\"><title>2&#45;&gt;4</title>\n",
       "<path fill=\"none\" stroke=\"black\" d=\"M109.187,-18C117.211,-18 126.953,-18 135.931,-18\"/>\n",
       "<polygon fill=\"black\" stroke=\"black\" points=\"135.971,-21.5001 145.971,-18 135.971,-14.5001 135.971,-21.5001\"/>\n",
       "<text text-anchor=\"middle\" x=\"127.5\" y=\"-21.8\" font-family=\"Times,serif\" font-size=\"14.00\">h</text>\n",
       "</g>\n",
       "<!-- 6 -->\n",
       "<g id=\"node6\" class=\"node\"><title>6</title>\n",
       "<ellipse fill=\"none\" stroke=\"black\" cx=\"237\" cy=\"-40\" rx=\"18\" ry=\"18\"/>\n",
       "<text text-anchor=\"middle\" x=\"237\" y=\"-36.3\" font-family=\"Times,serif\" font-size=\"14.00\">6</text>\n",
       "</g>\n",
       "<!-- 3&#45;&gt;6 -->\n",
       "<g id=\"edge5\" class=\"edge\"><title>3&#45;&gt;6</title>\n",
       "<path fill=\"none\" stroke=\"black\" d=\"M180.757,-64.8982C189.674,-60.8795 201.026,-55.7628 211.118,-51.2143\"/>\n",
       "<polygon fill=\"black\" stroke=\"black\" points=\"212.608,-54.3819 220.287,-47.082 209.732,-48.0001 212.608,-54.3819\"/>\n",
       "<text text-anchor=\"middle\" x=\"200.5\" y=\"-59.8\" font-family=\"Times,serif\" font-size=\"14.00\">c</text>\n",
       "</g>\n",
       "<!-- 5 -->\n",
       "<g id=\"node7\" class=\"node\"><title>5</title>\n",
       "<ellipse fill=\"none\" stroke=\"black\" cx=\"237\" cy=\"-94\" rx=\"18\" ry=\"18\"/>\n",
       "<text text-anchor=\"middle\" x=\"237\" y=\"-90.3\" font-family=\"Times,serif\" font-size=\"14.00\">5</text>\n",
       "</g>\n",
       "<!-- 3&#45;&gt;5 -->\n",
       "<g id=\"edge6\" class=\"edge\"><title>3&#45;&gt;5</title>\n",
       "<path fill=\"none\" stroke=\"black\" d=\"M181.467,-77.1025C189.891,-79.7126 200.344,-82.9516 209.838,-85.8934\"/>\n",
       "<polygon fill=\"black\" stroke=\"black\" points=\"209.034,-89.3085 219.622,-88.9251 211.106,-82.6221 209.034,-89.3085\"/>\n",
       "<text text-anchor=\"middle\" x=\"200.5\" y=\"-86.8\" font-family=\"Times,serif\" font-size=\"14.00\">x</text>\n",
       "</g>\n",
       "<!-- 4&#45;&gt;6 -->\n",
       "<g id=\"edge7\" class=\"edge\"><title>4&#45;&gt;6</title>\n",
       "<path fill=\"none\" stroke=\"black\" d=\"M182.033,-16.4263C188.987,-16.2967 197.019,-16.816 204,-19 207.401,-20.0639 210.781,-21.6036 214,-23.373\"/>\n",
       "<polygon fill=\"black\" stroke=\"black\" points=\"212.205,-26.3791 222.528,-28.7637 215.946,-20.4621 212.205,-26.3791\"/>\n",
       "<text text-anchor=\"middle\" x=\"200.5\" y=\"-22.8\" font-family=\"Times,serif\" font-size=\"14.00\">c</text>\n",
       "</g>\n",
       "<!-- 8 -->\n",
       "<g id=\"node9\" class=\"node\"><title>8</title>\n",
       "<ellipse fill=\"none\" stroke=\"black\" cx=\"310\" cy=\"-40\" rx=\"18\" ry=\"18\"/>\n",
       "<text text-anchor=\"middle\" x=\"310\" y=\"-36.3\" font-family=\"Times,serif\" font-size=\"14.00\">8</text>\n",
       "</g>\n",
       "<!-- 6&#45;&gt;8 -->\n",
       "<g id=\"edge9\" class=\"edge\"><title>6&#45;&gt;8</title>\n",
       "<path fill=\"none\" stroke=\"black\" d=\"M255.187,-40C263.211,-40 272.953,-40 281.931,-40\"/>\n",
       "<polygon fill=\"black\" stroke=\"black\" points=\"281.971,-43.5001 291.971,-40 281.971,-36.5001 281.971,-43.5001\"/>\n",
       "<text text-anchor=\"middle\" x=\"273.5\" y=\"-43.8\" font-family=\"Times,serif\" font-size=\"14.00\">d</text>\n",
       "</g>\n",
       "<!-- 7 -->\n",
       "<g id=\"node8\" class=\"node\"><title>7</title>\n",
       "<ellipse fill=\"none\" stroke=\"black\" cx=\"310\" cy=\"-94\" rx=\"18\" ry=\"18\"/>\n",
       "<text text-anchor=\"middle\" x=\"310\" y=\"-90.3\" font-family=\"Times,serif\" font-size=\"14.00\">7</text>\n",
       "</g>\n",
       "<!-- 5&#45;&gt;7 -->\n",
       "<g id=\"edge8\" class=\"edge\"><title>5&#45;&gt;7</title>\n",
       "<path fill=\"none\" stroke=\"black\" d=\"M255.187,-94C263.211,-94 272.953,-94 281.931,-94\"/>\n",
       "<polygon fill=\"black\" stroke=\"black\" points=\"281.971,-97.5001 291.971,-94 281.971,-90.5001 281.971,-97.5001\"/>\n",
       "<text text-anchor=\"middle\" x=\"273.5\" y=\"-97.8\" font-family=\"Times,serif\" font-size=\"14.00\">y</text>\n",
       "</g>\n",
       "<!-- 9 -->\n",
       "<g id=\"node10\" class=\"node\"><title>9</title>\n",
       "<ellipse fill=\"none\" stroke=\"black\" cx=\"387\" cy=\"-69\" rx=\"18\" ry=\"18\"/>\n",
       "<ellipse fill=\"none\" stroke=\"black\" cx=\"387\" cy=\"-69\" rx=\"22\" ry=\"22\"/>\n",
       "<text text-anchor=\"middle\" x=\"387\" y=\"-65.3\" font-family=\"Times,serif\" font-size=\"14.00\">9</text>\n",
       "</g>\n",
       "<!-- 7&#45;&gt;9 -->\n",
       "<g id=\"edge10\" class=\"edge\"><title>7&#45;&gt;9</title>\n",
       "<path fill=\"none\" stroke=\"black\" d=\"M327.274,-88.5754C335.804,-85.7319 346.519,-82.1602 356.454,-78.8487\"/>\n",
       "<polygon fill=\"black\" stroke=\"black\" points=\"357.638,-82.1433 366.018,-75.6605 355.425,-75.5025 357.638,-82.1433\"/>\n",
       "<text text-anchor=\"middle\" x=\"346.5\" y=\"-85.8\" font-family=\"Times,serif\" font-size=\"14.00\">z</text>\n",
       "</g>\n",
       "<!-- 8&#45;&gt;9 -->\n",
       "<g id=\"edge11\" class=\"edge\"><title>8&#45;&gt;9</title>\n",
       "<path fill=\"none\" stroke=\"black\" d=\"M327.274,-46.2926C335.869,-49.6159 346.682,-53.797 356.68,-57.6628\"/>\n",
       "<polygon fill=\"black\" stroke=\"black\" points=\"355.704,-61.0379 366.293,-61.38 358.228,-54.509 355.704,-61.0379\"/>\n",
       "<text text-anchor=\"middle\" x=\"346.5\" y=\"-57.8\" font-family=\"Times,serif\" font-size=\"14.00\">e</text>\n",
       "</g>\n",
       "</g>\n",
       "</svg>\n"
      ]
     },
     "metadata": {}
    }
   ],
   "source": [
    "i=i.determinize()\n",
    "i.minimize()\n",
    "i"
   ]
  },
  {
   "cell_type": "markdown",
   "metadata": {},
   "source": [
    "And we can still produce an output, like before:"
   ]
  },
  {
   "cell_type": "code",
   "execution_count": 39,
   "metadata": {},
   "outputs": [
    {
     "data": {
      "image/svg+xml": [
       "<?xml version=\"1.0\" encoding=\"UTF-8\" standalone=\"no\"?>\n",
       "<!DOCTYPE svg PUBLIC \"-//W3C//DTD SVG 1.1//EN\"\n",
       " \"http://www.w3.org/Graphics/SVG/1.1/DTD/svg11.dtd\">\n",
       "<!-- Generated by graphviz version 2.38.0 (20140413.2041)\n",
       " -->\n",
       "<!-- Title: FST Pages: 1 -->\n",
       "<svg width=\"417pt\" height=\"120pt\"\n",
       " viewBox=\"0.00 0.00 417.00 120.00\" xmlns=\"http://www.w3.org/2000/svg\" xmlns:xlink=\"http://www.w3.org/1999/xlink\">\n",
       "<g id=\"graph0\" class=\"graph\" transform=\"scale(1 1) rotate(0) translate(4 116)\">\n",
       "<title>FST</title>\n",
       "<polygon fill=\"white\" stroke=\"none\" points=\"-4,4 -4,-116 413,-116 413,4 -4,4\"/>\n",
       "<!-- 0 -->\n",
       "<g id=\"node1\" class=\"node\"><title>0</title>\n",
       "<ellipse fill=\"none\" stroke=\"black\" stroke-width=\"2\" cx=\"18\" cy=\"-47\" rx=\"18\" ry=\"18\"/>\n",
       "<text text-anchor=\"middle\" x=\"18\" y=\"-43.3\" font-family=\"Times,serif\" font-size=\"14.00\">0</text>\n",
       "</g>\n",
       "<!-- 1 -->\n",
       "<g id=\"node2\" class=\"node\"><title>1</title>\n",
       "<ellipse fill=\"none\" stroke=\"black\" cx=\"91\" cy=\"-72\" rx=\"18\" ry=\"18\"/>\n",
       "<text text-anchor=\"middle\" x=\"91\" y=\"-68.3\" font-family=\"Times,serif\" font-size=\"14.00\">1</text>\n",
       "</g>\n",
       "<!-- 0&#45;&gt;1 -->\n",
       "<g id=\"edge1\" class=\"edge\"><title>0&#45;&gt;1</title>\n",
       "<path fill=\"none\" stroke=\"black\" d=\"M35.111,-52.6729C43.6134,-55.6667 54.2564,-59.4142 63.9015,-62.8104\"/>\n",
       "<polygon fill=\"black\" stroke=\"black\" points=\"62.8652,-66.1561 73.46,-66.1761 65.1901,-59.5534 62.8652,-66.1561\"/>\n",
       "<text text-anchor=\"middle\" x=\"54.5\" y=\"-63.8\" font-family=\"Times,serif\" font-size=\"14.00\">b</text>\n",
       "</g>\n",
       "<!-- 2 -->\n",
       "<g id=\"node3\" class=\"node\"><title>2</title>\n",
       "<ellipse fill=\"none\" stroke=\"black\" cx=\"91\" cy=\"-18\" rx=\"18\" ry=\"18\"/>\n",
       "<text text-anchor=\"middle\" x=\"91\" y=\"-14.3\" font-family=\"Times,serif\" font-size=\"14.00\">2</text>\n",
       "</g>\n",
       "<!-- 0&#45;&gt;2 -->\n",
       "<g id=\"edge2\" class=\"edge\"><title>0&#45;&gt;2</title>\n",
       "<path fill=\"none\" stroke=\"black\" d=\"M35.111,-40.4195C43.8257,-36.8599 54.7891,-32.3819 64.6219,-28.3657\"/>\n",
       "<polygon fill=\"black\" stroke=\"black\" points=\"66.0187,-31.576 73.9528,-24.5545 63.3717,-25.0957 66.0187,-31.576\"/>\n",
       "<text text-anchor=\"middle\" x=\"54.5\" y=\"-36.8\" font-family=\"Times,serif\" font-size=\"14.00\">e</text>\n",
       "</g>\n",
       "<!-- 3 -->\n",
       "<g id=\"node4\" class=\"node\"><title>3</title>\n",
       "<ellipse fill=\"none\" stroke=\"black\" cx=\"164\" cy=\"-72\" rx=\"18\" ry=\"18\"/>\n",
       "<text text-anchor=\"middle\" x=\"164\" y=\"-68.3\" font-family=\"Times,serif\" font-size=\"14.00\">3</text>\n",
       "</g>\n",
       "<!-- 1&#45;&gt;3 -->\n",
       "<g id=\"edge3\" class=\"edge\"><title>1&#45;&gt;3</title>\n",
       "<path fill=\"none\" stroke=\"black\" d=\"M109.187,-72C117.211,-72 126.953,-72 135.931,-72\"/>\n",
       "<polygon fill=\"black\" stroke=\"black\" points=\"135.971,-75.5001 145.971,-72 135.971,-68.5001 135.971,-75.5001\"/>\n",
       "<text text-anchor=\"middle\" x=\"127.5\" y=\"-75.8\" font-family=\"Times,serif\" font-size=\"14.00\">c</text>\n",
       "</g>\n",
       "<!-- 4 -->\n",
       "<g id=\"node5\" class=\"node\"><title>4</title>\n",
       "<ellipse fill=\"none\" stroke=\"black\" cx=\"164\" cy=\"-18\" rx=\"18\" ry=\"18\"/>\n",
       "<text text-anchor=\"middle\" x=\"164\" y=\"-14.3\" font-family=\"Times,serif\" font-size=\"14.00\">4</text>\n",
       "</g>\n",
       "<!-- 2&#45;&gt;4 -->\n",
       "<g id=\"edge4\" class=\"edge\"><title>2&#45;&gt;4</title>\n",
       "<path fill=\"none\" stroke=\"black\" d=\"M109.187,-18C117.211,-18 126.953,-18 135.931,-18\"/>\n",
       "<polygon fill=\"black\" stroke=\"black\" points=\"135.971,-21.5001 145.971,-18 135.971,-14.5001 135.971,-21.5001\"/>\n",
       "<text text-anchor=\"middle\" x=\"127.5\" y=\"-21.8\" font-family=\"Times,serif\" font-size=\"14.00\">f</text>\n",
       "</g>\n",
       "<!-- 5 -->\n",
       "<g id=\"node6\" class=\"node\"><title>5</title>\n",
       "<ellipse fill=\"none\" stroke=\"black\" cx=\"237\" cy=\"-40\" rx=\"18\" ry=\"18\"/>\n",
       "<text text-anchor=\"middle\" x=\"237\" y=\"-36.3\" font-family=\"Times,serif\" font-size=\"14.00\">5</text>\n",
       "</g>\n",
       "<!-- 3&#45;&gt;5 -->\n",
       "<g id=\"edge5\" class=\"edge\"><title>3&#45;&gt;5</title>\n",
       "<path fill=\"none\" stroke=\"black\" d=\"M180.757,-64.8982C189.674,-60.8795 201.026,-55.7628 211.118,-51.2143\"/>\n",
       "<polygon fill=\"black\" stroke=\"black\" points=\"212.608,-54.3819 220.287,-47.082 209.732,-48.0001 212.608,-54.3819\"/>\n",
       "<text text-anchor=\"middle\" x=\"200.5\" y=\"-59.8\" font-family=\"Times,serif\" font-size=\"14.00\">a</text>\n",
       "</g>\n",
       "<!-- 6 -->\n",
       "<g id=\"node7\" class=\"node\"><title>6</title>\n",
       "<ellipse fill=\"none\" stroke=\"black\" cx=\"237\" cy=\"-94\" rx=\"18\" ry=\"18\"/>\n",
       "<text text-anchor=\"middle\" x=\"237\" y=\"-90.3\" font-family=\"Times,serif\" font-size=\"14.00\">6</text>\n",
       "</g>\n",
       "<!-- 3&#45;&gt;6 -->\n",
       "<g id=\"edge6\" class=\"edge\"><title>3&#45;&gt;6</title>\n",
       "<path fill=\"none\" stroke=\"black\" d=\"M181.467,-77.1025C189.891,-79.7126 200.344,-82.9516 209.838,-85.8934\"/>\n",
       "<polygon fill=\"black\" stroke=\"black\" points=\"209.034,-89.3085 219.622,-88.9251 211.106,-82.6221 209.034,-89.3085\"/>\n",
       "<text text-anchor=\"middle\" x=\"200.5\" y=\"-86.8\" font-family=\"Times,serif\" font-size=\"14.00\">x</text>\n",
       "</g>\n",
       "<!-- 4&#45;&gt;5 -->\n",
       "<g id=\"edge7\" class=\"edge\"><title>4&#45;&gt;5</title>\n",
       "<path fill=\"none\" stroke=\"black\" d=\"M182.033,-16.4263C188.987,-16.2967 197.019,-16.816 204,-19 207.401,-20.0639 210.781,-21.6036 214,-23.373\"/>\n",
       "<polygon fill=\"black\" stroke=\"black\" points=\"212.205,-26.3791 222.528,-28.7637 215.946,-20.4621 212.205,-26.3791\"/>\n",
       "<text text-anchor=\"middle\" x=\"200.5\" y=\"-22.8\" font-family=\"Times,serif\" font-size=\"14.00\">a</text>\n",
       "</g>\n",
       "<!-- 7 -->\n",
       "<g id=\"node8\" class=\"node\"><title>7</title>\n",
       "<ellipse fill=\"none\" stroke=\"black\" cx=\"310\" cy=\"-40\" rx=\"18\" ry=\"18\"/>\n",
       "<text text-anchor=\"middle\" x=\"310\" y=\"-36.3\" font-family=\"Times,serif\" font-size=\"14.00\">7</text>\n",
       "</g>\n",
       "<!-- 5&#45;&gt;7 -->\n",
       "<g id=\"edge8\" class=\"edge\"><title>5&#45;&gt;7</title>\n",
       "<path fill=\"none\" stroke=\"black\" d=\"M255.187,-40C263.211,-40 272.953,-40 281.931,-40\"/>\n",
       "<polygon fill=\"black\" stroke=\"black\" points=\"281.971,-43.5001 291.971,-40 281.971,-36.5001 281.971,-43.5001\"/>\n",
       "<text text-anchor=\"middle\" x=\"273.5\" y=\"-43.8\" font-family=\"Times,serif\" font-size=\"14.00\">f</text>\n",
       "</g>\n",
       "<!-- 8 -->\n",
       "<g id=\"node9\" class=\"node\"><title>8</title>\n",
       "<ellipse fill=\"none\" stroke=\"black\" cx=\"310\" cy=\"-94\" rx=\"18\" ry=\"18\"/>\n",
       "<text text-anchor=\"middle\" x=\"310\" y=\"-90.3\" font-family=\"Times,serif\" font-size=\"14.00\">8</text>\n",
       "</g>\n",
       "<!-- 6&#45;&gt;8 -->\n",
       "<g id=\"edge9\" class=\"edge\"><title>6&#45;&gt;8</title>\n",
       "<path fill=\"none\" stroke=\"black\" d=\"M255.187,-94C263.211,-94 272.953,-94 281.931,-94\"/>\n",
       "<polygon fill=\"black\" stroke=\"black\" points=\"281.971,-97.5001 291.971,-94 281.971,-90.5001 281.971,-97.5001\"/>\n",
       "<text text-anchor=\"middle\" x=\"273.5\" y=\"-97.8\" font-family=\"Times,serif\" font-size=\"14.00\">y</text>\n",
       "</g>\n",
       "<!-- 9 -->\n",
       "<g id=\"node10\" class=\"node\"><title>9</title>\n",
       "<ellipse fill=\"none\" stroke=\"black\" cx=\"387\" cy=\"-69\" rx=\"18\" ry=\"18\"/>\n",
       "<ellipse fill=\"none\" stroke=\"black\" cx=\"387\" cy=\"-69\" rx=\"22\" ry=\"22\"/>\n",
       "<text text-anchor=\"middle\" x=\"387\" y=\"-65.3\" font-family=\"Times,serif\" font-size=\"14.00\">9</text>\n",
       "</g>\n",
       "<!-- 7&#45;&gt;9 -->\n",
       "<g id=\"edge10\" class=\"edge\"><title>7&#45;&gt;9</title>\n",
       "<path fill=\"none\" stroke=\"black\" d=\"M327.274,-46.2926C335.869,-49.6159 346.682,-53.797 356.68,-57.6628\"/>\n",
       "<polygon fill=\"black\" stroke=\"black\" points=\"355.704,-61.0379 366.293,-61.38 358.228,-54.509 355.704,-61.0379\"/>\n",
       "<text text-anchor=\"middle\" x=\"346.5\" y=\"-57.8\" font-family=\"Times,serif\" font-size=\"14.00\">g</text>\n",
       "</g>\n",
       "<!-- 8&#45;&gt;9 -->\n",
       "<g id=\"edge11\" class=\"edge\"><title>8&#45;&gt;9</title>\n",
       "<path fill=\"none\" stroke=\"black\" d=\"M327.274,-88.5754C335.804,-85.7319 346.519,-82.1602 356.454,-78.8487\"/>\n",
       "<polygon fill=\"black\" stroke=\"black\" points=\"357.638,-82.1433 366.018,-75.6605 355.425,-75.5025 357.638,-82.1433\"/>\n",
       "<text text-anchor=\"middle\" x=\"346.5\" y=\"-85.8\" font-family=\"Times,serif\" font-size=\"14.00\">z</text>\n",
       "</g>\n",
       "</g>\n",
       "</svg>\n"
      ]
     },
     "metadata": {}
    }
   ],
   "source": [
    "o=i>>f\n",
    "o.project_output()\n",
    "o"
   ]
  },
  {
   "cell_type": "markdown",
   "metadata": {},
   "source": [
    "This method is also useful to combine a chain of operations into one complete transducer, for example to create a speech recognition pipeline as mentioned in the chapter about HMMs above. We can create a separate transducer for modeling phonemes, one for converting phonemes into words and another one for modeling sequences of words and combine all three into one large transducer converting context-indepentend phonemes into context-depndent words.\n",
    "\n",
    "## HMM example using WFST\n",
    "\n",
    "Let's reitrate our HMM example above using WFSTs. First lets convert the observation matrix into an input sequence:"
   ]
  },
  {
   "cell_type": "code",
   "execution_count": 40,
   "metadata": {},
   "outputs": [],
   "source": [
    "def obs_mat(O,b,N,T):\n",
    "    f=fst.StdAcceptor()\n",
    "        \n",
    "    for t in range(T):\n",
    "        for j in range(N):\n",
    "            f.add_arc(t,t+1,str(j),-np.log(b[j,O[t]]))\n",
    "        \n",
    "    f[T].final=True\n",
    "    \n",
    "    return f\n",
    "\n",
    "obs_fsa=obs_mat(O,b,N,T)"
   ]
  },
  {
   "cell_type": "markdown",
   "metadata": {},
   "source": [
    "A thing to note is that weights in FSTs are usually represented in a different way than in HMMs. We generally define weights in a specific semiring: in this case the [tropical semiring](https://en.wikipedia.org/wiki/Tropical_geometry). \n",
    "\n",
    "This semiring defines that the combination of two weigts is implemented using the sum. Probabilities are usually added togehter by multiplying them with each other. If we convert them into the log domain, the multiplication changes into a sum. Taking a logarithm of a value between 0 and 1 (i.e. probability) caonstraints the result to values between $-\\inf$ to 0. The value of 0 is the best, and $-\\inf$ is the worst. The tropical semiring works in the opposite direction, so we also have to take the negative of the logarithm to redefine values from 0 to $\\inf$ and make the smaller values better than higher:"
   ]
  },
  {
   "cell_type": "code",
   "execution_count": 41,
   "metadata": {},
   "outputs": [
    {
     "data": {
      "image/svg+xml": [
       "<?xml version=\"1.0\" encoding=\"UTF-8\" standalone=\"no\"?>\n",
       "<!DOCTYPE svg PUBLIC \"-//W3C//DTD SVG 1.1//EN\"\n",
       " \"http://www.w3.org/Graphics/SVG/1.1/DTD/svg11.dtd\">\n",
       "<!-- Generated by graphviz version 2.38.0 (20140413.2041)\n",
       " -->\n",
       "<!-- Title: FST Pages: 1 -->\n",
       "<svg width=\"612pt\" height=\"64pt\"\n",
       " viewBox=\"0.00 0.00 612.00 63.97\" xmlns=\"http://www.w3.org/2000/svg\" xmlns:xlink=\"http://www.w3.org/1999/xlink\">\n",
       "<g id=\"graph0\" class=\"graph\" transform=\"scale(0.884393 0.884393) rotate(0) translate(4 68.336)\">\n",
       "<title>FST</title>\n",
       "<polygon fill=\"white\" stroke=\"none\" points=\"-4,4 -4,-68.336 688,-68.336 688,4 -4,4\"/>\n",
       "<!-- 0 -->\n",
       "<g id=\"node1\" class=\"node\"><title>0</title>\n",
       "<ellipse fill=\"none\" stroke=\"black\" stroke-width=\"2\" cx=\"18\" cy=\"-29.336\" rx=\"18\" ry=\"18\"/>\n",
       "<text text-anchor=\"middle\" x=\"18\" y=\"-25.636\" font-family=\"Times,serif\" font-size=\"14.00\">0</text>\n",
       "</g>\n",
       "<!-- 1 -->\n",
       "<g id=\"node2\" class=\"node\"><title>1</title>\n",
       "<ellipse fill=\"none\" stroke=\"black\" cx=\"146\" cy=\"-29.336\" rx=\"18\" ry=\"18\"/>\n",
       "<text text-anchor=\"middle\" x=\"146\" y=\"-25.636\" font-family=\"Times,serif\" font-size=\"14.00\">1</text>\n",
       "</g>\n",
       "<!-- 0&#45;&gt;1 -->\n",
       "<g id=\"edge1\" class=\"edge\"><title>0&#45;&gt;1</title>\n",
       "<path fill=\"none\" stroke=\"black\" d=\"M33.752,-38.4988C38.9978,-41.265 45.0758,-43.9375 51,-45.336 77.8184,-51.667 86.1816,-51.667 113,-45.336 115.684,-44.7023 118.4,-43.807 121.056,-42.76\"/>\n",
       "<polygon fill=\"black\" stroke=\"black\" points=\"122.648,-45.8802 130.248,-38.4988 119.703,-39.5294 122.648,-45.8802\"/>\n",
       "<text text-anchor=\"middle\" x=\"82\" y=\"-53.136\" font-family=\"Times,serif\" font-size=\"14.00\">0/0.627817</text>\n",
       "</g>\n",
       "<!-- 0&#45;&gt;1 -->\n",
       "<g id=\"edge2\" class=\"edge\"><title>0&#45;&gt;1</title>\n",
       "<path fill=\"none\" stroke=\"black\" d=\"M35.9187,-27.4522C40.781,-26.9916 46.095,-26.5654 51,-26.336 78.5255,-25.0486 85.4745,-25.0486 113,-26.336 114.533,-26.4077 116.106,-26.4986 117.692,-26.6038\"/>\n",
       "<polygon fill=\"black\" stroke=\"black\" points=\"117.83,-30.1266 128.081,-27.4522 118.399,-23.1498 117.83,-30.1266\"/>\n",
       "<text text-anchor=\"middle\" x=\"82\" y=\"-30.136\" font-family=\"Times,serif\" font-size=\"14.00\">1/1.33442</text>\n",
       "</g>\n",
       "<!-- 0&#45;&gt;1 -->\n",
       "<g id=\"edge3\" class=\"edge\"><title>0&#45;&gt;1</title>\n",
       "<path fill=\"none\" stroke=\"black\" d=\"M31.6674,-17.4341C37.1726,-13.0488 43.9668,-8.60136 51,-6.33602 77.2286,2.11201 86.7714,2.11201 113,-6.33602 116.846,-7.57488 120.621,-9.46635 124.153,-11.6434\"/>\n",
       "<polygon fill=\"black\" stroke=\"black\" points=\"122.148,-14.5128 132.333,-17.4341 126.193,-8.79945 122.148,-14.5128\"/>\n",
       "<text text-anchor=\"middle\" x=\"82\" y=\"-10.136\" font-family=\"Times,serif\" font-size=\"14.00\">2/1.59488</text>\n",
       "</g>\n",
       "<!-- 2 -->\n",
       "<g id=\"node3\" class=\"node\"><title>2</title>\n",
       "<ellipse fill=\"none\" stroke=\"black\" cx=\"274\" cy=\"-29.336\" rx=\"18\" ry=\"18\"/>\n",
       "<text text-anchor=\"middle\" x=\"274\" y=\"-25.636\" font-family=\"Times,serif\" font-size=\"14.00\">2</text>\n",
       "</g>\n",
       "<!-- 1&#45;&gt;2 -->\n",
       "<g id=\"edge4\" class=\"edge\"><title>1&#45;&gt;2</title>\n",
       "<path fill=\"none\" stroke=\"black\" d=\"M161.752,-38.4988C166.998,-41.265 173.076,-43.9375 179,-45.336 205.818,-51.667 214.182,-51.667 241,-45.336 243.684,-44.7023 246.4,-43.807 249.056,-42.76\"/>\n",
       "<polygon fill=\"black\" stroke=\"black\" points=\"250.648,-45.8802 258.248,-38.4988 247.703,-39.5294 250.648,-45.8802\"/>\n",
       "<text text-anchor=\"middle\" x=\"210\" y=\"-53.136\" font-family=\"Times,serif\" font-size=\"14.00\">0/2.26865</text>\n",
       "</g>\n",
       "<!-- 1&#45;&gt;2 -->\n",
       "<g id=\"edge5\" class=\"edge\"><title>1&#45;&gt;2</title>\n",
       "<path fill=\"none\" stroke=\"black\" d=\"M163.919,-27.4522C168.781,-26.9916 174.095,-26.5654 179,-26.336 206.525,-25.0486 213.475,-25.0486 241,-26.336 242.533,-26.4077 244.106,-26.4986 245.692,-26.6038\"/>\n",
       "<polygon fill=\"black\" stroke=\"black\" points=\"245.83,-30.1266 256.081,-27.4522 246.399,-23.1498 245.83,-30.1266\"/>\n",
       "<text text-anchor=\"middle\" x=\"210\" y=\"-30.136\" font-family=\"Times,serif\" font-size=\"14.00\">1/0.415699</text>\n",
       "</g>\n",
       "<!-- 1&#45;&gt;2 -->\n",
       "<g id=\"edge6\" class=\"edge\"><title>1&#45;&gt;2</title>\n",
       "<path fill=\"none\" stroke=\"black\" d=\"M159.667,-17.4341C165.173,-13.0488 171.967,-8.60136 179,-6.33602 205.229,2.11201 214.771,2.11201 241,-6.33602 244.846,-7.57488 248.621,-9.46635 252.153,-11.6434\"/>\n",
       "<polygon fill=\"black\" stroke=\"black\" points=\"250.148,-14.5128 260.333,-17.4341 254.193,-8.79945 250.148,-14.5128\"/>\n",
       "<text text-anchor=\"middle\" x=\"210\" y=\"-10.136\" font-family=\"Times,serif\" font-size=\"14.00\">2/1.44109</text>\n",
       "</g>\n",
       "<!-- 3 -->\n",
       "<g id=\"node4\" class=\"node\"><title>3</title>\n",
       "<ellipse fill=\"none\" stroke=\"black\" cx=\"402\" cy=\"-29.336\" rx=\"18\" ry=\"18\"/>\n",
       "<text text-anchor=\"middle\" x=\"402\" y=\"-25.636\" font-family=\"Times,serif\" font-size=\"14.00\">3</text>\n",
       "</g>\n",
       "<!-- 2&#45;&gt;3 -->\n",
       "<g id=\"edge7\" class=\"edge\"><title>2&#45;&gt;3</title>\n",
       "<path fill=\"none\" stroke=\"black\" d=\"M289.752,-38.4988C294.998,-41.265 301.076,-43.9375 307,-45.336 333.818,-51.667 342.182,-51.667 369,-45.336 371.684,-44.7023 374.4,-43.807 377.056,-42.76\"/>\n",
       "<polygon fill=\"black\" stroke=\"black\" points=\"378.648,-45.8802 386.248,-38.4988 375.703,-39.5294 378.648,-45.8802\"/>\n",
       "<text text-anchor=\"middle\" x=\"338\" y=\"-53.136\" font-family=\"Times,serif\" font-size=\"14.00\">0/1.10404</text>\n",
       "</g>\n",
       "<!-- 2&#45;&gt;3 -->\n",
       "<g id=\"edge8\" class=\"edge\"><title>2&#45;&gt;3</title>\n",
       "<path fill=\"none\" stroke=\"black\" d=\"M291.919,-27.4522C296.781,-26.9916 302.095,-26.5654 307,-26.336 334.525,-25.0486 341.475,-25.0486 369,-26.336 370.533,-26.4077 372.106,-26.4986 373.692,-26.6038\"/>\n",
       "<polygon fill=\"black\" stroke=\"black\" points=\"373.83,-30.1266 384.081,-27.4522 374.399,-23.1498 373.83,-30.1266\"/>\n",
       "<text text-anchor=\"middle\" x=\"338\" y=\"-30.136\" font-family=\"Times,serif\" font-size=\"14.00\">1/0.900015</text>\n",
       "</g>\n",
       "<!-- 2&#45;&gt;3 -->\n",
       "<g id=\"edge9\" class=\"edge\"><title>2&#45;&gt;3</title>\n",
       "<path fill=\"none\" stroke=\"black\" d=\"M287.667,-17.4341C293.173,-13.0488 299.967,-8.60136 307,-6.33602 333.229,2.11201 342.771,2.11201 369,-6.33602 372.846,-7.57488 376.621,-9.46635 380.153,-11.6434\"/>\n",
       "<polygon fill=\"black\" stroke=\"black\" points=\"378.148,-14.5128 388.333,-17.4341 382.193,-8.79945 378.148,-14.5128\"/>\n",
       "<text text-anchor=\"middle\" x=\"338\" y=\"-10.136\" font-family=\"Times,serif\" font-size=\"14.00\">2/1.33976</text>\n",
       "</g>\n",
       "<!-- 4 -->\n",
       "<g id=\"node5\" class=\"node\"><title>4</title>\n",
       "<ellipse fill=\"none\" stroke=\"black\" cx=\"530\" cy=\"-29.336\" rx=\"18\" ry=\"18\"/>\n",
       "<text text-anchor=\"middle\" x=\"530\" y=\"-25.636\" font-family=\"Times,serif\" font-size=\"14.00\">4</text>\n",
       "</g>\n",
       "<!-- 3&#45;&gt;4 -->\n",
       "<g id=\"edge10\" class=\"edge\"><title>3&#45;&gt;4</title>\n",
       "<path fill=\"none\" stroke=\"black\" d=\"M417.752,-38.4988C422.998,-41.265 429.076,-43.9375 435,-45.336 461.818,-51.667 470.182,-51.667 497,-45.336 499.684,-44.7023 502.4,-43.807 505.056,-42.76\"/>\n",
       "<polygon fill=\"black\" stroke=\"black\" points=\"506.648,-45.8802 514.248,-38.4988 503.703,-39.5294 506.648,-45.8802\"/>\n",
       "<text text-anchor=\"middle\" x=\"466\" y=\"-53.136\" font-family=\"Times,serif\" font-size=\"14.00\">0/2.26865</text>\n",
       "</g>\n",
       "<!-- 3&#45;&gt;4 -->\n",
       "<g id=\"edge11\" class=\"edge\"><title>3&#45;&gt;4</title>\n",
       "<path fill=\"none\" stroke=\"black\" d=\"M419.919,-27.4522C424.781,-26.9916 430.095,-26.5654 435,-26.336 462.525,-25.0486 469.475,-25.0486 497,-26.336 498.533,-26.4077 500.106,-26.4986 501.692,-26.6038\"/>\n",
       "<polygon fill=\"black\" stroke=\"black\" points=\"501.83,-30.1266 512.081,-27.4522 502.399,-23.1498 501.83,-30.1266\"/>\n",
       "<text text-anchor=\"middle\" x=\"466\" y=\"-30.136\" font-family=\"Times,serif\" font-size=\"14.00\">1/0.415699</text>\n",
       "</g>\n",
       "<!-- 3&#45;&gt;4 -->\n",
       "<g id=\"edge12\" class=\"edge\"><title>3&#45;&gt;4</title>\n",
       "<path fill=\"none\" stroke=\"black\" d=\"M415.667,-17.4341C421.173,-13.0488 427.967,-8.60136 435,-6.33602 461.229,2.11201 470.771,2.11201 497,-6.33602 500.846,-7.57488 504.621,-9.46635 508.153,-11.6434\"/>\n",
       "<polygon fill=\"black\" stroke=\"black\" points=\"506.148,-14.5128 516.333,-17.4341 510.193,-8.79945 506.148,-14.5128\"/>\n",
       "<text text-anchor=\"middle\" x=\"466\" y=\"-10.136\" font-family=\"Times,serif\" font-size=\"14.00\">2/1.44109</text>\n",
       "</g>\n",
       "<!-- 5 -->\n",
       "<g id=\"node6\" class=\"node\"><title>5</title>\n",
       "<ellipse fill=\"none\" stroke=\"black\" cx=\"662\" cy=\"-29.336\" rx=\"18\" ry=\"18\"/>\n",
       "<ellipse fill=\"none\" stroke=\"black\" cx=\"662\" cy=\"-29.336\" rx=\"22\" ry=\"22\"/>\n",
       "<text text-anchor=\"middle\" x=\"662\" y=\"-25.636\" font-family=\"Times,serif\" font-size=\"14.00\">5</text>\n",
       "</g>\n",
       "<!-- 4&#45;&gt;5 -->\n",
       "<g id=\"edge13\" class=\"edge\"><title>4&#45;&gt;5</title>\n",
       "<path fill=\"none\" stroke=\"black\" d=\"M545.752,-38.4988C550.998,-41.265 557.076,-43.9375 563,-45.336 589.818,-51.667 598.045,-51.0563 625,-45.336 627.517,-44.8018 630.072,-44.079 632.599,-43.2346\"/>\n",
       "<polygon fill=\"black\" stroke=\"black\" points=\"634.041,-46.4289 642.071,-39.5168 631.483,-39.9129 634.041,-46.4289\"/>\n",
       "<text text-anchor=\"middle\" x=\"594\" y=\"-53.136\" font-family=\"Times,serif\" font-size=\"14.00\">0/0.627817</text>\n",
       "</g>\n",
       "<!-- 4&#45;&gt;5 -->\n",
       "<g id=\"edge14\" class=\"edge\"><title>4&#45;&gt;5</title>\n",
       "<path fill=\"none\" stroke=\"black\" d=\"M547.919,-27.4522C552.781,-26.9916 558.095,-26.5654 563,-26.336 590.525,-25.0486 597.468,-25.1908 625,-26.336 626.527,-26.3996 628.09,-26.4782 629.668,-26.5685\"/>\n",
       "<polygon fill=\"black\" stroke=\"black\" points=\"629.859,-30.0903 640.079,-27.2967 630.347,-23.1073 629.859,-30.0903\"/>\n",
       "<text text-anchor=\"middle\" x=\"594\" y=\"-30.136\" font-family=\"Times,serif\" font-size=\"14.00\">1/1.33442</text>\n",
       "</g>\n",
       "<!-- 4&#45;&gt;5 -->\n",
       "<g id=\"edge15\" class=\"edge\"><title>4&#45;&gt;5</title>\n",
       "<path fill=\"none\" stroke=\"black\" d=\"M543.667,-17.4341C549.173,-13.0488 555.967,-8.60136 563,-6.33602 589.229,2.11201 598.55,1.39192 625,-6.33602 628.631,-7.39682 632.244,-8.94779 635.702,-10.7515\"/>\n",
       "<polygon fill=\"black\" stroke=\"black\" points=\"634.021,-13.8244 644.4,-15.9534 637.614,-7.81682 634.021,-13.8244\"/>\n",
       "<text text-anchor=\"middle\" x=\"594\" y=\"-10.136\" font-family=\"Times,serif\" font-size=\"14.00\">2/1.59488</text>\n",
       "</g>\n",
       "</g>\n",
       "</svg>\n"
      ]
     },
     "metadata": {}
    }
   ],
   "source": [
    "obs_fsa"
   ]
  },
  {
   "cell_type": "markdown",
   "metadata": {},
   "source": [
    "This FSA simply chains several sequences in parallel. Each state represent a time step and the transitions in between are the individual observations. It's shape is what made it known as the *sausage*.\n",
    "\n",
    "Now, we can also incorporate the priors and transitions in another FST that looks like this:"
   ]
  },
  {
   "cell_type": "code",
   "execution_count": 42,
   "metadata": {},
   "outputs": [],
   "source": [
    "def trans_mat(pi,a,N):\n",
    "    f=fst.StdAcceptor()\n",
    "    \n",
    "    for i in range(N):\n",
    "        f.add_arc(0,i+1,str(i),-np.log(pi[i]))\n",
    "    \n",
    "    for i in range(N):\n",
    "        for j in range(N):\n",
    "            f.add_arc(i+1,j+1,str(j),-np.log(a[i,j]))\n",
    "        \n",
    "    for i in range(N):\n",
    "        f[i+1].final=True\n",
    "    \n",
    "    return f\n",
    "\n",
    "tr_fsa=trans_mat(pi,a,N)"
   ]
  },
  {
   "cell_type": "code",
   "execution_count": 43,
   "metadata": {},
   "outputs": [
    {
     "data": {
      "image/svg+xml": [
       "<?xml version=\"1.0\" encoding=\"UTF-8\" standalone=\"no\"?>\n",
       "<!DOCTYPE svg PUBLIC \"-//W3C//DTD SVG 1.1//EN\"\n",
       " \"http://www.w3.org/Graphics/SVG/1.1/DTD/svg11.dtd\">\n",
       "<!-- Generated by graphviz version 2.38.0 (20140413.2041)\n",
       " -->\n",
       "<!-- Title: FST Pages: 1 -->\n",
       "<svg width=\"484pt\" height=\"198pt\"\n",
       " viewBox=\"0.00 0.00 483.50 197.52\" xmlns=\"http://www.w3.org/2000/svg\" xmlns:xlink=\"http://www.w3.org/1999/xlink\">\n",
       "<g id=\"graph0\" class=\"graph\" transform=\"scale(1 1) rotate(0) translate(4 193.518)\">\n",
       "<title>FST</title>\n",
       "<polygon fill=\"white\" stroke=\"none\" points=\"-4,4 -4,-193.518 479.5,-193.518 479.5,4 -4,4\"/>\n",
       "<!-- 0 -->\n",
       "<g id=\"node1\" class=\"node\"><title>0</title>\n",
       "<ellipse fill=\"none\" stroke=\"black\" stroke-width=\"2\" cx=\"18\" cy=\"-25.5181\" rx=\"18\" ry=\"18\"/>\n",
       "<text text-anchor=\"middle\" x=\"18\" y=\"-21.8181\" font-family=\"Times,serif\" font-size=\"14.00\">0</text>\n",
       "</g>\n",
       "<!-- 1 -->\n",
       "<g id=\"node2\" class=\"node\"><title>1</title>\n",
       "<ellipse fill=\"none\" stroke=\"black\" cx=\"152\" cy=\"-96.5181\" rx=\"18\" ry=\"18\"/>\n",
       "<ellipse fill=\"none\" stroke=\"black\" cx=\"152\" cy=\"-96.5181\" rx=\"22\" ry=\"22\"/>\n",
       "<text text-anchor=\"middle\" x=\"152\" y=\"-92.8181\" font-family=\"Times,serif\" font-size=\"14.00\">1</text>\n",
       "</g>\n",
       "<!-- 0&#45;&gt;1 -->\n",
       "<g id=\"edge1\" class=\"edge\"><title>0&#45;&gt;1</title>\n",
       "<path fill=\"none\" stroke=\"black\" d=\"M34.1421,-33.6627C55.8286,-45.3274 96.1032,-66.9903 123.229,-81.5807\"/>\n",
       "<polygon fill=\"black\" stroke=\"black\" points=\"121.759,-84.7639 132.223,-86.4186 125.075,-78.5991 121.759,-84.7639\"/>\n",
       "<text text-anchor=\"middle\" x=\"78.5\" y=\"-75.3181\" font-family=\"Times,serif\" font-size=\"14.00\">0/2.03558</text>\n",
       "</g>\n",
       "<!-- 2 -->\n",
       "<g id=\"node3\" class=\"node\"><title>2</title>\n",
       "<ellipse fill=\"none\" stroke=\"black\" cx=\"306\" cy=\"-35.5181\" rx=\"18\" ry=\"18\"/>\n",
       "<ellipse fill=\"none\" stroke=\"black\" cx=\"306\" cy=\"-35.5181\" rx=\"22\" ry=\"22\"/>\n",
       "<text text-anchor=\"middle\" x=\"306\" y=\"-31.8181\" font-family=\"Times,serif\" font-size=\"14.00\">2</text>\n",
       "</g>\n",
       "<!-- 0&#45;&gt;2 -->\n",
       "<g id=\"edge2\" class=\"edge\"><title>0&#45;&gt;2</title>\n",
       "<path fill=\"none\" stroke=\"black\" d=\"M36.0341,-26.1137C82.7729,-27.748 213.543,-32.3203 273.833,-34.4284\"/>\n",
       "<polygon fill=\"black\" stroke=\"black\" points=\"273.781,-37.9286 283.897,-34.7803 274.026,-30.9329 273.781,-37.9286\"/>\n",
       "<text text-anchor=\"middle\" x=\"152\" y=\"-34.3181\" font-family=\"Times,serif\" font-size=\"14.00\">1/0.553627</text>\n",
       "</g>\n",
       "<!-- 3 -->\n",
       "<g id=\"node4\" class=\"node\"><title>3</title>\n",
       "<ellipse fill=\"none\" stroke=\"black\" cx=\"451\" cy=\"-73.5181\" rx=\"18\" ry=\"18\"/>\n",
       "<ellipse fill=\"none\" stroke=\"black\" cx=\"451\" cy=\"-73.5181\" rx=\"22\" ry=\"22\"/>\n",
       "<text text-anchor=\"middle\" x=\"451\" y=\"-69.8181\" font-family=\"Times,serif\" font-size=\"14.00\">3</text>\n",
       "</g>\n",
       "<!-- 0&#45;&gt;3 -->\n",
       "<g id=\"edge3\" class=\"edge\"><title>0&#45;&gt;3</title>\n",
       "<path fill=\"none\" stroke=\"black\" d=\"M35.9536,-22.1798C83.5632,-13.2825 222.483,9.40186 337,-4.51813 371.991,-8.77143 384.796,-3.78001 414,-23.5181 422.265,-29.1044 429.286,-37.2568 434.873,-45.364\"/>\n",
       "<polygon fill=\"black\" stroke=\"black\" points=\"432.051,-47.4496 440.363,-54.0198 437.962,-43.7004 432.051,-47.4496\"/>\n",
       "<text text-anchor=\"middle\" x=\"229\" y=\"-5.31813\" font-family=\"Times,serif\" font-size=\"14.00\">2/1.22236</text>\n",
       "</g>\n",
       "<!-- 1&#45;&gt;1 -->\n",
       "<g id=\"edge4\" class=\"edge\"><title>1&#45;&gt;1</title>\n",
       "<path fill=\"none\" stroke=\"black\" d=\"M139.453,-114.618C136.427,-125.839 140.609,-136.518 152,-136.518 159.831,-136.518 164.255,-131.471 165.272,-124.67\"/>\n",
       "<polygon fill=\"black\" stroke=\"black\" points=\"168.758,-124.341 164.547,-114.618 161.776,-124.844 168.758,-124.341\"/>\n",
       "<text text-anchor=\"middle\" x=\"152\" y=\"-140.318\" font-family=\"Times,serif\" font-size=\"14.00\">0/0.8197</text>\n",
       "</g>\n",
       "<!-- 1&#45;&gt;2 -->\n",
       "<g id=\"edge5\" class=\"edge\"><title>1&#45;&gt;2</title>\n",
       "<path fill=\"none\" stroke=\"black\" d=\"M174.128,-95.3337C196.48,-93.3768 232.279,-88.1985 260,-74.5181 268.263,-70.4405 276.226,-64.4751 283.098,-58.4306\"/>\n",
       "<polygon fill=\"black\" stroke=\"black\" points=\"285.697,-60.7915 290.615,-51.4069 280.918,-55.6767 285.697,-60.7915\"/>\n",
       "<text text-anchor=\"middle\" x=\"229\" y=\"-95.3181\" font-family=\"Times,serif\" font-size=\"14.00\">1/2.504</text>\n",
       "</g>\n",
       "<!-- 1&#45;&gt;3 -->\n",
       "<g id=\"edge6\" class=\"edge\"><title>1&#45;&gt;3</title>\n",
       "<path fill=\"none\" stroke=\"black\" d=\"M165.92,-114.246C173.977,-123.822 185.227,-134.822 198,-140.518 285.676,-179.62 333.245,-192.427 414,-140.518 426.871,-132.245 435.466,-117.734 441.019,-104.327\"/>\n",
       "<polygon fill=\"black\" stroke=\"black\" points=\"444.333,-105.458 444.542,-94.8656 437.773,-103.016 444.333,-105.458\"/>\n",
       "<text text-anchor=\"middle\" x=\"306\" y=\"-178.318\" font-family=\"Times,serif\" font-size=\"14.00\">2/0.738816</text>\n",
       "</g>\n",
       "<!-- 2&#45;&gt;1 -->\n",
       "<g id=\"edge7\" class=\"edge\"><title>2&#45;&gt;1</title>\n",
       "<path fill=\"none\" stroke=\"black\" d=\"M283.815,-36.0842C261.415,-37.4368 225.577,-41.7917 198,-55.5181 189.245,-59.876 180.94,-66.44 173.903,-73.0461\"/>\n",
       "<polygon fill=\"black\" stroke=\"black\" points=\"171.412,-70.5878 166.804,-80.1284 176.356,-75.5433 171.412,-70.5878\"/>\n",
       "<text text-anchor=\"middle\" x=\"229\" y=\"-59.3181\" font-family=\"Times,serif\" font-size=\"14.00\">0/0.829051</text>\n",
       "</g>\n",
       "<!-- 2&#45;&gt;2 -->\n",
       "<g id=\"edge8\" class=\"edge\"><title>2&#45;&gt;2</title>\n",
       "<path fill=\"none\" stroke=\"black\" d=\"M292.877,-53.2026C289.454,-64.5741 293.828,-75.5181 306,-75.5181 314.368,-75.5181 319.051,-70.3454 320.048,-63.4172\"/>\n",
       "<polygon fill=\"black\" stroke=\"black\" points=\"323.51,-62.8462 319.123,-53.2026 316.539,-63.4775 323.51,-62.8462\"/>\n",
       "<text text-anchor=\"middle\" x=\"306\" y=\"-79.3181\" font-family=\"Times,serif\" font-size=\"14.00\">1/0.909002</text>\n",
       "</g>\n",
       "<!-- 2&#45;&gt;3 -->\n",
       "<g id=\"edge9\" class=\"edge\"><title>2&#45;&gt;3</title>\n",
       "<path fill=\"none\" stroke=\"black\" d=\"M327.672,-31.1701C349.954,-27.4952 385.989,-24.5355 414,-36.5181 420.165,-39.1552 425.801,-43.4109 430.691,-48.1139\"/>\n",
       "<polygon fill=\"black\" stroke=\"black\" points=\"428.363,-50.7516 437.729,-55.7042 433.496,-45.9919 428.363,-50.7516\"/>\n",
       "<text text-anchor=\"middle\" x=\"383\" y=\"-40.3181\" font-family=\"Times,serif\" font-size=\"14.00\">2/1.82877</text>\n",
       "</g>\n",
       "<!-- 3&#45;&gt;1 -->\n",
       "<g id=\"edge10\" class=\"edge\"><title>3&#45;&gt;1</title>\n",
       "<path fill=\"none\" stroke=\"black\" d=\"M430.062,-80.4869C387.448,-94.4928 284.341,-123.639 198,-110.518 193.005,-109.759 187.802,-108.552 182.781,-107.156\"/>\n",
       "<polygon fill=\"black\" stroke=\"black\" points=\"183.443,-103.699 172.857,-104.112 181.39,-110.391 183.443,-103.699\"/>\n",
       "<text text-anchor=\"middle\" x=\"306\" y=\"-115.318\" font-family=\"Times,serif\" font-size=\"14.00\">0/5.87236</text>\n",
       "</g>\n",
       "<!-- 3&#45;&gt;2 -->\n",
       "<g id=\"edge11\" class=\"edge\"><title>3&#45;&gt;2</title>\n",
       "<path fill=\"none\" stroke=\"black\" d=\"M429.168,-69.6012C409.201,-65.6691 378.301,-59.116 352,-51.5181 346.952,-50.0598 341.645,-48.3429 336.517,-46.5849\"/>\n",
       "<polygon fill=\"black\" stroke=\"black\" points=\"337.587,-43.2507 326.992,-43.2106 335.249,-49.849 337.587,-43.2507\"/>\n",
       "<text text-anchor=\"middle\" x=\"383\" y=\"-69.3181\" font-family=\"Times,serif\" font-size=\"14.00\">1/0.123971</text>\n",
       "</g>\n",
       "<!-- 3&#45;&gt;3 -->\n",
       "<g id=\"edge12\" class=\"edge\"><title>3&#45;&gt;3</title>\n",
       "<path fill=\"none\" stroke=\"black\" d=\"M439.047,-92.0338C436.391,-103.101 440.375,-113.518 451,-113.518 458.139,-113.518 462.28,-108.816 463.423,-102.373\"/>\n",
       "<polygon fill=\"black\" stroke=\"black\" points=\"466.904,-101.865 462.953,-92.0338 459.911,-102.182 466.904,-101.865\"/>\n",
       "<text text-anchor=\"middle\" x=\"451\" y=\"-117.318\" font-family=\"Times,serif\" font-size=\"14.00\">2/2.1735</text>\n",
       "</g>\n",
       "</g>\n",
       "</svg>\n"
      ]
     },
     "metadata": {}
    }
   ],
   "source": [
    "tr_fsa"
   ]
  },
  {
   "cell_type": "markdown",
   "metadata": {},
   "source": [
    "Now lets combine the input sausage with the above transitions:"
   ]
  },
  {
   "cell_type": "code",
   "execution_count": 44,
   "metadata": {},
   "outputs": [
    {
     "data": {
      "image/svg+xml": [
       "<?xml version=\"1.0\" encoding=\"UTF-8\" standalone=\"no\"?>\n",
       "<!DOCTYPE svg PUBLIC \"-//W3C//DTD SVG 1.1//EN\"\n",
       " \"http://www.w3.org/Graphics/SVG/1.1/DTD/svg11.dtd\">\n",
       "<!-- Generated by graphviz version 2.38.0 (20140413.2041)\n",
       " -->\n",
       "<!-- Title: FST Pages: 1 -->\n",
       "<svg width=\"612pt\" height=\"402pt\"\n",
       " viewBox=\"0.00 0.00 612.00 402.21\" xmlns=\"http://www.w3.org/2000/svg\" xmlns:xlink=\"http://www.w3.org/1999/xlink\">\n",
       "<g id=\"graph0\" class=\"graph\" transform=\"scale(0.923087 0.923087) rotate(0) translate(4 431.719)\">\n",
       "<title>FST</title>\n",
       "<polygon fill=\"white\" stroke=\"none\" points=\"-4,4 -4,-431.719 658.993,-431.719 658.993,4 -4,4\"/>\n",
       "<!-- 0 -->\n",
       "<g id=\"node1\" class=\"node\"><title>0</title>\n",
       "<ellipse fill=\"none\" stroke=\"black\" stroke-width=\"2\" cx=\"18\" cy=\"-251.719\" rx=\"18\" ry=\"18\"/>\n",
       "<text text-anchor=\"middle\" x=\"18\" y=\"-248.019\" font-family=\"Times,serif\" font-size=\"14.00\">0</text>\n",
       "</g>\n",
       "<!-- 1 -->\n",
       "<g id=\"node2\" class=\"node\"><title>1</title>\n",
       "<ellipse fill=\"none\" stroke=\"black\" cx=\"139\" cy=\"-346.719\" rx=\"18\" ry=\"18\"/>\n",
       "<text text-anchor=\"middle\" x=\"139\" y=\"-343.019\" font-family=\"Times,serif\" font-size=\"14.00\">1</text>\n",
       "</g>\n",
       "<!-- 0&#45;&gt;1 -->\n",
       "<g id=\"edge1\" class=\"edge\"><title>0&#45;&gt;1</title>\n",
       "<path fill=\"none\" stroke=\"black\" d=\"M32.6508,-262.617C53.1845,-279.009 92.2031,-310.158 116.559,-329.602\"/>\n",
       "<polygon fill=\"black\" stroke=\"black\" points=\"114.51,-332.445 124.508,-335.948 118.877,-326.974 114.51,-332.445\"/>\n",
       "<text text-anchor=\"middle\" x=\"78.5\" y=\"-324.519\" font-family=\"Times,serif\" font-size=\"14.00\">0/2.6634</text>\n",
       "</g>\n",
       "<!-- 2 -->\n",
       "<g id=\"node3\" class=\"node\"><title>2</title>\n",
       "<ellipse fill=\"none\" stroke=\"black\" cx=\"139\" cy=\"-197.719\" rx=\"18\" ry=\"18\"/>\n",
       "<text text-anchor=\"middle\" x=\"139\" y=\"-194.019\" font-family=\"Times,serif\" font-size=\"14.00\">2</text>\n",
       "</g>\n",
       "<!-- 0&#45;&gt;2 -->\n",
       "<g id=\"edge2\" class=\"edge\"><title>0&#45;&gt;2</title>\n",
       "<path fill=\"none\" stroke=\"black\" d=\"M33.714,-242.341C39.0583,-239.108 45.2081,-235.582 51,-232.719 71.0081,-222.827 94.5368,-213.493 112.077,-206.955\"/>\n",
       "<polygon fill=\"black\" stroke=\"black\" points=\"113.459,-210.176 121.641,-203.446 111.048,-203.605 113.459,-210.176\"/>\n",
       "<text text-anchor=\"middle\" x=\"78.5\" y=\"-236.519\" font-family=\"Times,serif\" font-size=\"14.00\">1/1.88805</text>\n",
       "</g>\n",
       "<!-- 3 -->\n",
       "<g id=\"node4\" class=\"node\"><title>3</title>\n",
       "<ellipse fill=\"none\" stroke=\"black\" cx=\"139\" cy=\"-251.719\" rx=\"18\" ry=\"18\"/>\n",
       "<text text-anchor=\"middle\" x=\"139\" y=\"-248.019\" font-family=\"Times,serif\" font-size=\"14.00\">3</text>\n",
       "</g>\n",
       "<!-- 0&#45;&gt;3 -->\n",
       "<g id=\"edge3\" class=\"edge\"><title>0&#45;&gt;3</title>\n",
       "<path fill=\"none\" stroke=\"black\" d=\"M36.0498,-251.719C55.5788,-251.719 87.8386,-251.719 110.838,-251.719\"/>\n",
       "<polygon fill=\"black\" stroke=\"black\" points=\"110.982,-255.219 120.982,-251.719 110.982,-248.219 110.982,-255.219\"/>\n",
       "<text text-anchor=\"middle\" x=\"78.5\" y=\"-255.519\" font-family=\"Times,serif\" font-size=\"14.00\">2/2.81724</text>\n",
       "</g>\n",
       "<!-- 4 -->\n",
       "<g id=\"node5\" class=\"node\"><title>4</title>\n",
       "<ellipse fill=\"none\" stroke=\"black\" cx=\"260\" cy=\"-224.719\" rx=\"18\" ry=\"18\"/>\n",
       "<text text-anchor=\"middle\" x=\"260\" y=\"-221.019\" font-family=\"Times,serif\" font-size=\"14.00\">4</text>\n",
       "</g>\n",
       "<!-- 1&#45;&gt;4 -->\n",
       "<g id=\"edge4\" class=\"edge\"><title>1&#45;&gt;4</title>\n",
       "<path fill=\"none\" stroke=\"black\" d=\"M153.909,-357.18C159.274,-360.604 165.645,-363.974 172,-365.719 195.572,-372.19 207.898,-380.972 227,-365.719 235.83,-358.668 248.071,-291.774 254.555,-252.712\"/>\n",
       "<polygon fill=\"black\" stroke=\"black\" points=\"258.064,-252.939 256.224,-242.506 251.156,-251.81 258.064,-252.939\"/>\n",
       "<text text-anchor=\"middle\" x=\"199.5\" y=\"-377.519\" font-family=\"Times,serif\" font-size=\"14.00\">0/3.08835</text>\n",
       "</g>\n",
       "<!-- 5 -->\n",
       "<g id=\"node6\" class=\"node\"><title>5</title>\n",
       "<ellipse fill=\"none\" stroke=\"black\" cx=\"260\" cy=\"-159.719\" rx=\"18\" ry=\"18\"/>\n",
       "<text text-anchor=\"middle\" x=\"260\" y=\"-156.019\" font-family=\"Times,serif\" font-size=\"14.00\">5</text>\n",
       "</g>\n",
       "<!-- 1&#45;&gt;5 -->\n",
       "<g id=\"edge5\" class=\"edge\"><title>1&#45;&gt;5</title>\n",
       "<path fill=\"none\" stroke=\"black\" d=\"M143.144,-328.954C147.063,-311.826 155.383,-286.276 172,-270.719 190.88,-253.044 209.285,-270.561 227,-251.719 244.062,-233.571 233.557,-221.153 242,-197.719 243.488,-193.588 245.227,-189.278 247.015,-185.106\"/>\n",
       "<polygon fill=\"black\" stroke=\"black\" points=\"250.301,-186.331 251.177,-175.773 243.908,-183.48 250.301,-186.331\"/>\n",
       "<text text-anchor=\"middle\" x=\"199.5\" y=\"-274.519\" font-family=\"Times,serif\" font-size=\"14.00\">1/2.9197</text>\n",
       "</g>\n",
       "<!-- 6 -->\n",
       "<g id=\"node7\" class=\"node\"><title>6</title>\n",
       "<ellipse fill=\"none\" stroke=\"black\" cx=\"260\" cy=\"-349.719\" rx=\"18\" ry=\"18\"/>\n",
       "<text text-anchor=\"middle\" x=\"260\" y=\"-346.019\" font-family=\"Times,serif\" font-size=\"14.00\">6</text>\n",
       "</g>\n",
       "<!-- 1&#45;&gt;6 -->\n",
       "<g id=\"edge6\" class=\"edge\"><title>1&#45;&gt;6</title>\n",
       "<path fill=\"none\" stroke=\"black\" d=\"M144.541,-364.063C149.075,-377.508 157.505,-395.234 172,-403.719 193.096,-416.068 205.761,-415.821 227,-403.719 237.584,-397.688 245.026,-386.629 250.052,-376.081\"/>\n",
       "<polygon fill=\"black\" stroke=\"black\" points=\"253.348,-377.272 254.01,-366.698 246.898,-374.552 253.348,-377.272\"/>\n",
       "<text text-anchor=\"middle\" x=\"199.5\" y=\"-416.519\" font-family=\"Times,serif\" font-size=\"14.00\">2/2.17991</text>\n",
       "</g>\n",
       "<!-- 2&#45;&gt;4 -->\n",
       "<g id=\"edge7\" class=\"edge\"><title>2&#45;&gt;4</title>\n",
       "<path fill=\"none\" stroke=\"black\" d=\"M156.935,-194.705C174.906,-192.232 203.845,-190.348 227,-198.719 231.359,-200.295 235.56,-202.737 239.404,-205.506\"/>\n",
       "<polygon fill=\"black\" stroke=\"black\" points=\"237.222,-208.243 247.172,-211.881 241.663,-202.832 237.222,-208.243\"/>\n",
       "<text text-anchor=\"middle\" x=\"199.5\" y=\"-202.519\" font-family=\"Times,serif\" font-size=\"14.00\">0/3.09771</text>\n",
       "</g>\n",
       "<!-- 2&#45;&gt;5 -->\n",
       "<g id=\"edge8\" class=\"edge\"><title>2&#45;&gt;5</title>\n",
       "<path fill=\"none\" stroke=\"black\" d=\"M142.035,-179.922C145.133,-162.035 152.864,-135.359 172,-122.719 192.396,-109.246 204.769,-112.554 227,-122.719 233.539,-125.709 239.252,-130.767 243.971,-136.199\"/>\n",
       "<polygon fill=\"black\" stroke=\"black\" points=\"241.279,-138.44 250.154,-144.228 246.825,-134.169 241.279,-138.44\"/>\n",
       "<text text-anchor=\"middle\" x=\"199.5\" y=\"-126.519\" font-family=\"Times,serif\" font-size=\"14.00\">1/1.3247</text>\n",
       "</g>\n",
       "<!-- 2&#45;&gt;6 -->\n",
       "<g id=\"edge9\" class=\"edge\"><title>2&#45;&gt;6</title>\n",
       "<path fill=\"none\" stroke=\"black\" d=\"M150.289,-212.088C152.767,-216.039 155.212,-220.423 157,-224.719 168.391,-252.091 152.174,-267.675 172,-289.719 189.294,-308.948 205.957,-293.685 227,-308.719 233.465,-313.338 239.267,-319.626 244.097,-325.89\"/>\n",
       "<polygon fill=\"black\" stroke=\"black\" points=\"241.403,-328.14 250.053,-334.258 247.106,-324.081 241.403,-328.14\"/>\n",
       "<text text-anchor=\"middle\" x=\"199.5\" y=\"-312.519\" font-family=\"Times,serif\" font-size=\"14.00\">2/3.26986</text>\n",
       "</g>\n",
       "<!-- 3&#45;&gt;4 -->\n",
       "<g id=\"edge10\" class=\"edge\"><title>3&#45;&gt;4</title>\n",
       "<path fill=\"none\" stroke=\"black\" d=\"M155.256,-243.424C160.44,-240.918 166.352,-238.39 172,-236.719 191.614,-230.915 214.563,-227.899 231.966,-226.342\"/>\n",
       "<polygon fill=\"black\" stroke=\"black\" points=\"232.311,-229.826 242.005,-225.55 231.76,-222.847 232.311,-229.826\"/>\n",
       "<text text-anchor=\"middle\" x=\"199.5\" y=\"-240.519\" font-family=\"Times,serif\" font-size=\"14.00\">0/8.14101</text>\n",
       "</g>\n",
       "<!-- 3&#45;&gt;5 -->\n",
       "<g id=\"edge11\" class=\"edge\"><title>3&#45;&gt;5</title>\n",
       "<path fill=\"none\" stroke=\"black\" d=\"M150.118,-237.276C152.597,-233.325 155.086,-228.96 157,-224.719 166.72,-203.184 154.271,-189.336 172,-173.719 188.197,-159.451 212.968,-156.658 231.941,-157.025\"/>\n",
       "<polygon fill=\"black\" stroke=\"black\" points=\"231.904,-160.527 242.064,-157.522 232.247,-153.536 231.904,-160.527\"/>\n",
       "<text text-anchor=\"middle\" x=\"199.5\" y=\"-177.519\" font-family=\"Times,serif\" font-size=\"14.00\">1/0.53967</text>\n",
       "</g>\n",
       "<!-- 3&#45;&gt;6 -->\n",
       "<g id=\"edge12\" class=\"edge\"><title>3&#45;&gt;6</title>\n",
       "<path fill=\"none\" stroke=\"black\" d=\"M142.796,-269.467C146.471,-286.834 154.629,-312.788 172,-327.719 188.571,-341.962 213.099,-347.202 231.89,-349.029\"/>\n",
       "<polygon fill=\"black\" stroke=\"black\" points=\"231.698,-352.524 241.92,-349.74 232.193,-345.541 231.698,-352.524\"/>\n",
       "<text text-anchor=\"middle\" x=\"199.5\" y=\"-351.519\" font-family=\"Times,serif\" font-size=\"14.00\">2/3.61459</text>\n",
       "</g>\n",
       "<!-- 7 -->\n",
       "<g id=\"node8\" class=\"node\"><title>7</title>\n",
       "<ellipse fill=\"none\" stroke=\"black\" cx=\"381\" cy=\"-311.719\" rx=\"18\" ry=\"18\"/>\n",
       "<text text-anchor=\"middle\" x=\"381\" y=\"-308.019\" font-family=\"Times,serif\" font-size=\"14.00\">7</text>\n",
       "</g>\n",
       "<!-- 4&#45;&gt;7 -->\n",
       "<g id=\"edge13\" class=\"edge\"><title>4&#45;&gt;7</title>\n",
       "<path fill=\"none\" stroke=\"black\" d=\"M265.195,-242.23C269.645,-257.03 278.14,-277.69 293,-289.719 309.804,-303.321 333.953,-308.641 352.547,-310.661\"/>\n",
       "<polygon fill=\"black\" stroke=\"black\" points=\"352.501,-314.169 362.755,-311.507 353.079,-307.193 352.501,-314.169\"/>\n",
       "<text text-anchor=\"middle\" x=\"320.5\" y=\"-313.519\" font-family=\"Times,serif\" font-size=\"14.00\">0/1.92374</text>\n",
       "</g>\n",
       "<!-- 8 -->\n",
       "<g id=\"node9\" class=\"node\"><title>8</title>\n",
       "<ellipse fill=\"none\" stroke=\"black\" cx=\"381\" cy=\"-186.719\" rx=\"18\" ry=\"18\"/>\n",
       "<text text-anchor=\"middle\" x=\"381\" y=\"-183.019\" font-family=\"Times,serif\" font-size=\"14.00\">8</text>\n",
       "</g>\n",
       "<!-- 4&#45;&gt;8 -->\n",
       "<g id=\"edge14\" class=\"edge\"><title>4&#45;&gt;8</title>\n",
       "<path fill=\"none\" stroke=\"black\" d=\"M273.305,-212.055C278.854,-207.097 285.778,-201.855 293,-198.719 311.878,-190.521 335.036,-187.632 352.712,-186.733\"/>\n",
       "<polygon fill=\"black\" stroke=\"black\" points=\"353.042,-190.224 362.923,-186.4 352.814,-183.227 353.042,-190.224\"/>\n",
       "<text text-anchor=\"middle\" x=\"320.5\" y=\"-202.519\" font-family=\"Times,serif\" font-size=\"14.00\">1/3.40402</text>\n",
       "</g>\n",
       "<!-- 9 -->\n",
       "<g id=\"node10\" class=\"node\"><title>9</title>\n",
       "<ellipse fill=\"none\" stroke=\"black\" cx=\"381\" cy=\"-121.719\" rx=\"18\" ry=\"18\"/>\n",
       "<text text-anchor=\"middle\" x=\"381\" y=\"-118.019\" font-family=\"Times,serif\" font-size=\"14.00\">9</text>\n",
       "</g>\n",
       "<!-- 4&#45;&gt;9 -->\n",
       "<g id=\"edge15\" class=\"edge\"><title>4&#45;&gt;9</title>\n",
       "<path fill=\"none\" stroke=\"black\" d=\"M268.768,-208.645C271.851,-201.95 275.299,-194.042 278,-186.719 286.176,-164.552 275.271,-151.336 293,-135.719 309.197,-121.451 333.968,-118.658 352.941,-119.025\"/>\n",
       "<polygon fill=\"black\" stroke=\"black\" points=\"352.904,-122.527 363.064,-119.522 353.247,-115.536 352.904,-122.527\"/>\n",
       "<text text-anchor=\"middle\" x=\"320.5\" y=\"-139.519\" font-family=\"Times,serif\" font-size=\"14.00\">2/2.07858</text>\n",
       "</g>\n",
       "<!-- 5&#45;&gt;7 -->\n",
       "<g id=\"edge16\" class=\"edge\"><title>5&#45;&gt;7</title>\n",
       "<path fill=\"none\" stroke=\"black\" d=\"M268.823,-175.773C271.915,-182.465 275.354,-190.376 278,-197.719 286.443,-221.153 275.938,-233.571 293,-251.719 310.715,-270.561 326.957,-255.685 348,-270.719 354.465,-275.338 360.267,-281.626 365.097,-287.89\"/>\n",
       "<polygon fill=\"black\" stroke=\"black\" points=\"362.403,-290.14 371.053,-296.258 368.106,-286.081 362.403,-290.14\"/>\n",
       "<text text-anchor=\"middle\" x=\"320.5\" y=\"-274.519\" font-family=\"Times,serif\" font-size=\"14.00\">0/1.93309</text>\n",
       "</g>\n",
       "<!-- 5&#45;&gt;8 -->\n",
       "<g id=\"edge17\" class=\"edge\"><title>5&#45;&gt;8</title>\n",
       "<path fill=\"none\" stroke=\"black\" d=\"M277.935,-156.705C295.906,-154.232 324.845,-152.348 348,-160.719 352.359,-162.295 356.56,-164.737 360.404,-167.506\"/>\n",
       "<polygon fill=\"black\" stroke=\"black\" points=\"358.222,-170.243 368.172,-173.881 362.663,-164.832 358.222,-170.243\"/>\n",
       "<text text-anchor=\"middle\" x=\"320.5\" y=\"-164.519\" font-family=\"Times,serif\" font-size=\"14.00\">1/1.80902</text>\n",
       "</g>\n",
       "<!-- 5&#45;&gt;9 -->\n",
       "<g id=\"edge18\" class=\"edge\"><title>5&#45;&gt;9</title>\n",
       "<path fill=\"none\" stroke=\"black\" d=\"M263.035,-141.922C266.133,-124.035 273.864,-97.3591 293,-84.719 313.396,-71.2461 325.769,-74.554 348,-84.719 354.539,-87.7087 360.252,-92.7673 364.971,-98.1994\"/>\n",
       "<polygon fill=\"black\" stroke=\"black\" points=\"362.279,-100.44 371.154,-106.228 367.825,-96.1695 362.279,-100.44\"/>\n",
       "<text text-anchor=\"middle\" x=\"320.5\" y=\"-88.519\" font-family=\"Times,serif\" font-size=\"14.00\">2/3.16854</text>\n",
       "</g>\n",
       "<!-- 6&#45;&gt;7 -->\n",
       "<g id=\"edge19\" class=\"edge\"><title>6&#45;&gt;7</title>\n",
       "<path fill=\"none\" stroke=\"black\" d=\"M275.752,-358.882C280.998,-361.648 287.076,-364.32 293,-365.719 316.791,-371.335 326.761,-377.821 348,-365.719 358.584,-359.688 366.026,-348.629 371.052,-338.081\"/>\n",
       "<polygon fill=\"black\" stroke=\"black\" points=\"374.348,-339.272 375.01,-328.698 367.898,-336.552 374.348,-339.272\"/>\n",
       "<text text-anchor=\"middle\" x=\"320.5\" y=\"-375.519\" font-family=\"Times,serif\" font-size=\"14.00\">0/6.9764</text>\n",
       "</g>\n",
       "<!-- 6&#45;&gt;8 -->\n",
       "<g id=\"edge20\" class=\"edge\"><title>6&#45;&gt;8</title>\n",
       "<path fill=\"none\" stroke=\"black\" d=\"M277.991,-347.546C300.467,-344.327 338.371,-337.587 348,-327.719 355.892,-319.631 368.514,-253.159 375.307,-214.438\"/>\n",
       "<polygon fill=\"black\" stroke=\"black\" points=\"378.801,-214.776 377.06,-204.325 371.904,-213.58 378.801,-214.776\"/>\n",
       "<text text-anchor=\"middle\" x=\"320.5\" y=\"-348.519\" font-family=\"Times,serif\" font-size=\"14.00\">1/1.02399</text>\n",
       "</g>\n",
       "<!-- 6&#45;&gt;9 -->\n",
       "<g id=\"edge21\" class=\"edge\"><title>6&#45;&gt;9</title>\n",
       "<path fill=\"none\" stroke=\"black\" d=\"M260.966,-331.373C261.916,-305.957 267.379,-260.08 293,-232.719 310.677,-213.842 330.285,-232.561 348,-213.719 365.062,-195.571 354.557,-183.153 363,-159.719 364.488,-155.588 366.227,-151.278 368.015,-147.106\"/>\n",
       "<polygon fill=\"black\" stroke=\"black\" points=\"371.301,-148.331 372.177,-137.773 364.908,-145.48 371.301,-148.331\"/>\n",
       "<text text-anchor=\"middle\" x=\"320.5\" y=\"-236.519\" font-family=\"Times,serif\" font-size=\"14.00\">2/3.51326</text>\n",
       "</g>\n",
       "<!-- 10 -->\n",
       "<g id=\"node11\" class=\"node\"><title>10</title>\n",
       "<ellipse fill=\"none\" stroke=\"black\" cx=\"503.498\" cy=\"-149.719\" rx=\"19.4965\" ry=\"19.4965\"/>\n",
       "<text text-anchor=\"middle\" x=\"503.498\" y=\"-146.019\" font-family=\"Times,serif\" font-size=\"14.00\">10</text>\n",
       "</g>\n",
       "<!-- 7&#45;&gt;10 -->\n",
       "<g id=\"edge22\" class=\"edge\"><title>7&#45;&gt;10</title>\n",
       "<path fill=\"none\" stroke=\"black\" d=\"M398.974,-309.53C421.432,-306.292 459.313,-299.531 469,-289.719 476.784,-281.835 489.857,-217.699 497.157,-179.024\"/>\n",
       "<polygon fill=\"black\" stroke=\"black\" points=\"500.66,-179.331 499.054,-168.859 493.779,-178.047 500.66,-179.331\"/>\n",
       "<text text-anchor=\"middle\" x=\"441.5\" y=\"-310.519\" font-family=\"Times,serif\" font-size=\"14.00\">0/3.08835</text>\n",
       "</g>\n",
       "<!-- 11 -->\n",
       "<g id=\"node12\" class=\"node\"><title>11</title>\n",
       "<ellipse fill=\"none\" stroke=\"black\" cx=\"503.498\" cy=\"-83.719\" rx=\"19.4965\" ry=\"19.4965\"/>\n",
       "<text text-anchor=\"middle\" x=\"503.498\" y=\"-80.019\" font-family=\"Times,serif\" font-size=\"14.00\">11</text>\n",
       "</g>\n",
       "<!-- 7&#45;&gt;11 -->\n",
       "<g id=\"edge23\" class=\"edge\"><title>7&#45;&gt;11</title>\n",
       "<path fill=\"none\" stroke=\"black\" d=\"M381.966,-293.373C382.916,-267.957 388.379,-222.08 414,-194.719 431.677,-175.842 451.285,-194.561 469,-175.719 486.062,-157.571 475.179,-145.013 484,-121.719 485.449,-117.891 487.145,-113.928 488.912,-110.069\"/>\n",
       "<polygon fill=\"black\" stroke=\"black\" points=\"492.174,-111.36 493.347,-100.83 485.864,-108.33 492.174,-111.36\"/>\n",
       "<text text-anchor=\"middle\" x=\"441.5\" y=\"-198.519\" font-family=\"Times,serif\" font-size=\"14.00\">1/2.9197</text>\n",
       "</g>\n",
       "<!-- 12 -->\n",
       "<g id=\"node13\" class=\"node\"><title>12</title>\n",
       "<ellipse fill=\"none\" stroke=\"black\" cx=\"503.498\" cy=\"-273.719\" rx=\"19.4965\" ry=\"19.4965\"/>\n",
       "<text text-anchor=\"middle\" x=\"503.498\" y=\"-270.019\" font-family=\"Times,serif\" font-size=\"14.00\">12</text>\n",
       "</g>\n",
       "<!-- 7&#45;&gt;12 -->\n",
       "<g id=\"edge24\" class=\"edge\"><title>7&#45;&gt;12</title>\n",
       "<path fill=\"none\" stroke=\"black\" d=\"M396.752,-320.882C401.998,-323.648 408.076,-326.32 414,-327.719 437.791,-333.335 447.64,-339.605 469,-327.719 479.407,-321.928 486.994,-311.419 492.288,-301.2\"/>\n",
       "<polygon fill=\"black\" stroke=\"black\" points=\"495.503,-302.587 496.521,-292.041 489.149,-299.65 495.503,-302.587\"/>\n",
       "<text text-anchor=\"middle\" x=\"441.5\" y=\"-337.519\" font-family=\"Times,serif\" font-size=\"14.00\">2/2.17991</text>\n",
       "</g>\n",
       "<!-- 8&#45;&gt;10 -->\n",
       "<g id=\"edge25\" class=\"edge\"><title>8&#45;&gt;10</title>\n",
       "<path fill=\"none\" stroke=\"black\" d=\"M394.285,-174.008C399.83,-169.042 406.757,-163.807 414,-160.719 432.841,-152.686 455.843,-150.018 473.674,-149.315\"/>\n",
       "<polygon fill=\"black\" stroke=\"black\" points=\"473.84,-152.813 483.763,-149.102 473.691,-145.814 473.84,-152.813\"/>\n",
       "<text text-anchor=\"middle\" x=\"441.5\" y=\"-164.519\" font-family=\"Times,serif\" font-size=\"14.00\">0/3.09771</text>\n",
       "</g>\n",
       "<!-- 8&#45;&gt;11 -->\n",
       "<g id=\"edge26\" class=\"edge\"><title>8&#45;&gt;11</title>\n",
       "<path fill=\"none\" stroke=\"black\" d=\"M389.768,-170.645C392.851,-163.95 396.299,-156.042 399,-148.719 407.176,-126.552 396.25,-113.313 414,-97.719 430.171,-83.5126 454.717,-80.5738 473.859,-80.8723\"/>\n",
       "<polygon fill=\"black\" stroke=\"black\" points=\"473.703,-84.3687 483.85,-81.3202 474.017,-77.3757 473.703,-84.3687\"/>\n",
       "<text text-anchor=\"middle\" x=\"441.5\" y=\"-101.519\" font-family=\"Times,serif\" font-size=\"14.00\">1/1.3247</text>\n",
       "</g>\n",
       "<!-- 8&#45;&gt;12 -->\n",
       "<g id=\"edge27\" class=\"edge\"><title>8&#45;&gt;12</title>\n",
       "<path fill=\"none\" stroke=\"black\" d=\"M386.183,-204.244C390.625,-219.055 399.116,-239.72 414,-251.719 430.873,-265.321 455.007,-270.667 473.811,-272.697\"/>\n",
       "<polygon fill=\"black\" stroke=\"black\" points=\"473.646,-276.195 483.9,-273.531 474.222,-269.219 473.646,-276.195\"/>\n",
       "<text text-anchor=\"middle\" x=\"441.5\" y=\"-275.519\" font-family=\"Times,serif\" font-size=\"14.00\">2/3.26986</text>\n",
       "</g>\n",
       "<!-- 9&#45;&gt;10 -->\n",
       "<g id=\"edge28\" class=\"edge\"><title>9&#45;&gt;10</title>\n",
       "<path fill=\"none\" stroke=\"black\" d=\"M398.929,-118.723C416.894,-116.264 445.829,-114.393 469,-122.719 473.389,-124.296 477.63,-126.71 481.534,-129.459\"/>\n",
       "<polygon fill=\"black\" stroke=\"black\" points=\"479.475,-132.294 489.468,-135.816 483.852,-126.832 479.475,-132.294\"/>\n",
       "<text text-anchor=\"middle\" x=\"441.5\" y=\"-126.519\" font-family=\"Times,serif\" font-size=\"14.00\">0/8.14101</text>\n",
       "</g>\n",
       "<!-- 9&#45;&gt;11 -->\n",
       "<g id=\"edge29\" class=\"edge\"><title>9&#45;&gt;11</title>\n",
       "<path fill=\"none\" stroke=\"black\" d=\"M384.035,-103.922C387.133,-86.0354 394.864,-59.3591 414,-46.719 434.396,-33.2461 446.655,-36.807 469,-46.719 475.493,-49.5991 481.262,-54.4281 486.105,-59.6628\"/>\n",
       "<polygon fill=\"black\" stroke=\"black\" points=\"483.455,-61.9505 492.515,-67.4426 488.857,-57.4992 483.455,-61.9505\"/>\n",
       "<text text-anchor=\"middle\" x=\"441.5\" y=\"-50.519\" font-family=\"Times,serif\" font-size=\"14.00\">1/0.53967</text>\n",
       "</g>\n",
       "<!-- 9&#45;&gt;12 -->\n",
       "<g id=\"edge30\" class=\"edge\"><title>9&#45;&gt;12</title>\n",
       "<path fill=\"none\" stroke=\"black\" d=\"M389.823,-137.773C392.915,-144.465 396.354,-152.376 399,-159.719 407.443,-183.153 396.938,-195.571 414,-213.719 431.715,-232.561 447.79,-217.921 469,-232.719 475.426,-237.203 481.287,-243.247 486.247,-249.315\"/>\n",
       "<polygon fill=\"black\" stroke=\"black\" points=\"483.59,-251.604 492.42,-257.46 489.169,-247.376 483.59,-251.604\"/>\n",
       "<text text-anchor=\"middle\" x=\"441.5\" y=\"-236.519\" font-family=\"Times,serif\" font-size=\"14.00\">2/3.61459</text>\n",
       "</g>\n",
       "<!-- 13 -->\n",
       "<g id=\"node14\" class=\"node\"><title>13</title>\n",
       "<ellipse fill=\"none\" stroke=\"black\" cx=\"631.495\" cy=\"-235.719\" rx=\"19.4968\" ry=\"19.4968\"/>\n",
       "<ellipse fill=\"none\" stroke=\"black\" cx=\"631.495\" cy=\"-235.719\" rx=\"23.4965\" ry=\"23.4965\"/>\n",
       "<text text-anchor=\"middle\" x=\"631.495\" y=\"-232.019\" font-family=\"Times,serif\" font-size=\"14.00\">13</text>\n",
       "</g>\n",
       "<!-- 10&#45;&gt;13 -->\n",
       "<g id=\"edge31\" class=\"edge\"><title>10&#45;&gt;13</title>\n",
       "<path fill=\"none\" stroke=\"black\" d=\"M509.631,-168.491C514.559,-182.978 523.445,-202.401 537.997,-213.719 554.927,-226.887 578.5,-232.356 597.612,-234.548\"/>\n",
       "<polygon fill=\"black\" stroke=\"black\" points=\"597.426,-238.045 607.7,-235.457 598.054,-231.074 597.426,-238.045\"/>\n",
       "<text text-anchor=\"middle\" x=\"565.497\" y=\"-237.519\" font-family=\"Times,serif\" font-size=\"14.00\">0/1.44752</text>\n",
       "</g>\n",
       "<!-- 14 -->\n",
       "<g id=\"node15\" class=\"node\"><title>14</title>\n",
       "<ellipse fill=\"none\" stroke=\"black\" cx=\"631.495\" cy=\"-45.719\" rx=\"19.4968\" ry=\"19.4968\"/>\n",
       "<ellipse fill=\"none\" stroke=\"black\" cx=\"631.495\" cy=\"-45.719\" rx=\"23.4965\" ry=\"23.4965\"/>\n",
       "<text text-anchor=\"middle\" x=\"631.495\" y=\"-42.019\" font-family=\"Times,serif\" font-size=\"14.00\">14</text>\n",
       "</g>\n",
       "<!-- 10&#45;&gt;14 -->\n",
       "<g id=\"edge32\" class=\"edge\"><title>10&#45;&gt;14</title>\n",
       "<path fill=\"none\" stroke=\"black\" d=\"M513.432,-132.522C516.63,-126.077 520.146,-118.639 522.997,-111.719 530.867,-92.6159 522.71,-81.6178 537.997,-67.719 554.147,-53.0353 578.292,-47.6511 597.864,-45.8771\"/>\n",
       "<polygon fill=\"black\" stroke=\"black\" points=\"598.144,-49.3665 607.901,-45.2375 597.698,-42.3807 598.144,-49.3665\"/>\n",
       "<text text-anchor=\"middle\" x=\"565.497\" y=\"-71.519\" font-family=\"Times,serif\" font-size=\"14.00\">1/3.83843</text>\n",
       "</g>\n",
       "<!-- 15 -->\n",
       "<g id=\"node16\" class=\"node\"><title>15</title>\n",
       "<ellipse fill=\"none\" stroke=\"black\" cx=\"631.495\" cy=\"-121.719\" rx=\"19.4968\" ry=\"19.4968\"/>\n",
       "<ellipse fill=\"none\" stroke=\"black\" cx=\"631.495\" cy=\"-121.719\" rx=\"23.4965\" ry=\"23.4965\"/>\n",
       "<text text-anchor=\"middle\" x=\"631.495\" y=\"-118.019\" font-family=\"Times,serif\" font-size=\"14.00\">15</text>\n",
       "</g>\n",
       "<!-- 10&#45;&gt;15 -->\n",
       "<g id=\"edge33\" class=\"edge\"><title>10&#45;&gt;15</title>\n",
       "<path fill=\"none\" stroke=\"black\" d=\"M517.528,-135.813C523.255,-130.675 530.404,-125.444 537.997,-122.719 557.076,-115.871 579.829,-115.533 597.994,-116.95\"/>\n",
       "<polygon fill=\"black\" stroke=\"black\" points=\"597.8,-120.448 608.096,-117.951 598.49,-113.482 597.8,-120.448\"/>\n",
       "<text text-anchor=\"middle\" x=\"565.497\" y=\"-126.519\" font-family=\"Times,serif\" font-size=\"14.00\">2/2.33369</text>\n",
       "</g>\n",
       "<!-- 11&#45;&gt;13 -->\n",
       "<g id=\"edge34\" class=\"edge\"><title>11&#45;&gt;13</title>\n",
       "<path fill=\"none\" stroke=\"black\" d=\"M513.649,-100.83C516.871,-107.266 520.346,-114.72 522.997,-121.719 531.818,-145.013 520.935,-157.571 537.997,-175.719 555.711,-194.561 571.382,-180.518 592.997,-194.719 599.063,-198.705 604.803,-203.89 609.884,-209.225\"/>\n",
       "<polygon fill=\"black\" stroke=\"black\" points=\"607.56,-211.878 616.819,-217.026 612.791,-207.227 607.56,-211.878\"/>\n",
       "<text text-anchor=\"middle\" x=\"565.497\" y=\"-198.519\" font-family=\"Times,serif\" font-size=\"14.00\">0/1.45687</text>\n",
       "</g>\n",
       "<!-- 11&#45;&gt;14 -->\n",
       "<g id=\"edge35\" class=\"edge\"><title>11&#45;&gt;14</title>\n",
       "<path fill=\"none\" stroke=\"black\" d=\"M507.156,-64.5513C510.763,-46.675 519.093,-20.9795 537.997,-8.71898 558.505,4.58232 570.382,0.559932 592.997,-8.71898 599.104,-11.2251 604.749,-15.2598 609.707,-19.7619\"/>\n",
       "<polygon fill=\"black\" stroke=\"black\" points=\"607.389,-22.397 616.899,-27.0686 612.378,-17.4865 607.389,-22.397\"/>\n",
       "<text text-anchor=\"middle\" x=\"565.497\" y=\"-12.519\" font-family=\"Times,serif\" font-size=\"14.00\">1/2.24342</text>\n",
       "</g>\n",
       "<!-- 11&#45;&gt;15 -->\n",
       "<g id=\"edge36\" class=\"edge\"><title>11&#45;&gt;15</title>\n",
       "<path fill=\"none\" stroke=\"black\" d=\"M523.029,-84.442C541.337,-85.6611 569.876,-88.9341 592.997,-97.719 596.528,-99.0608 600.078,-100.765 603.51,-102.644\"/>\n",
       "<polygon fill=\"black\" stroke=\"black\" points=\"601.857,-105.735 612.229,-107.9 605.471,-99.7397 601.857,-105.735\"/>\n",
       "<text text-anchor=\"middle\" x=\"565.497\" y=\"-101.519\" font-family=\"Times,serif\" font-size=\"14.00\">2/3.42365</text>\n",
       "</g>\n",
       "<!-- 12&#45;&gt;13 -->\n",
       "<g id=\"edge37\" class=\"edge\"><title>12&#45;&gt;13</title>\n",
       "<path fill=\"none\" stroke=\"black\" d=\"M520.666,-283.223C526.002,-285.868 532.088,-288.38 537.997,-289.719 561.837,-295.12 571.336,-301.048 592.997,-289.719 602.884,-284.548 610.688,-275.451 616.558,-266.182\"/>\n",
       "<polygon fill=\"black\" stroke=\"black\" points=\"619.674,-267.783 621.598,-257.364 613.597,-264.309 619.674,-267.783\"/>\n",
       "<text text-anchor=\"middle\" x=\"565.497\" y=\"-299.519\" font-family=\"Times,serif\" font-size=\"14.00\">0/6.50017</text>\n",
       "</g>\n",
       "<!-- 12&#45;&gt;14 -->\n",
       "<g id=\"edge38\" class=\"edge\"><title>12&#45;&gt;14</title>\n",
       "<path fill=\"none\" stroke=\"black\" d=\"M504.798,-254.052C506.248,-228.377 512.563,-183.558 537.997,-156.719 555.785,-137.947 574.983,-156.276 592.997,-137.719 608.564,-121.681 599.545,-110.41 607.997,-89.719 609.973,-84.879 612.284,-79.8501 614.657,-74.9964\"/>\n",
       "<polygon fill=\"black\" stroke=\"black\" points=\"617.831,-76.4768 619.228,-65.9745 611.586,-73.3136 617.831,-76.4768\"/>\n",
       "<text text-anchor=\"middle\" x=\"565.497\" y=\"-160.519\" font-family=\"Times,serif\" font-size=\"14.00\">1/1.45839</text>\n",
       "</g>\n",
       "<!-- 12&#45;&gt;15 -->\n",
       "<g id=\"edge39\" class=\"edge\"><title>12&#45;&gt;15</title>\n",
       "<path fill=\"none\" stroke=\"black\" d=\"M522.868,-271.335C545.758,-268.005 583.078,-261.276 592.997,-251.719 594.808,-249.973 611.001,-192.299 621.507,-154.364\"/>\n",
       "<polygon fill=\"black\" stroke=\"black\" points=\"625.012,-154.822 624.303,-144.251 618.265,-152.957 625.012,-154.822\"/>\n",
       "<text text-anchor=\"middle\" x=\"565.497\" y=\"-272.519\" font-family=\"Times,serif\" font-size=\"14.00\">2/3.76838</text>\n",
       "</g>\n",
       "</g>\n",
       "</svg>\n"
      ]
     },
     "metadata": {}
    }
   ],
   "source": [
    "out_fsa=obs_fsa>>tr_fsa\n",
    "out_fsa"
   ]
  },
  {
   "cell_type": "markdown",
   "metadata": {},
   "source": [
    "What we get is a graph representing all the possible transitions among between all possible states with their corresponging weights. If we use the *shortest_path* method on this graph, we will get the same path as by using Viterbi:"
   ]
  },
  {
   "cell_type": "code",
   "execution_count": 45,
   "metadata": {},
   "outputs": [
    {
     "data": {
      "image/svg+xml": [
       "<?xml version=\"1.0\" encoding=\"UTF-8\" standalone=\"no\"?>\n",
       "<!DOCTYPE svg PUBLIC \"-//W3C//DTD SVG 1.1//EN\"\n",
       " \"http://www.w3.org/Graphics/SVG/1.1/DTD/svg11.dtd\">\n",
       "<!-- Generated by graphviz version 2.38.0 (20140413.2041)\n",
       " -->\n",
       "<!-- Title: FST Pages: 1 -->\n",
       "<svg width=\"612pt\" height=\"49pt\"\n",
       " viewBox=\"0.00 0.00 612.00 49.34\" xmlns=\"http://www.w3.org/2000/svg\" xmlns:xlink=\"http://www.w3.org/1999/xlink\">\n",
       "<g id=\"graph0\" class=\"graph\" transform=\"scale(0.948837 0.948837) rotate(0) translate(4 48)\">\n",
       "<title>FST</title>\n",
       "<polygon fill=\"white\" stroke=\"none\" points=\"-4,4 -4,-48 641,-48 641,4 -4,4\"/>\n",
       "<!-- 5 -->\n",
       "<g id=\"node1\" class=\"node\"><title>5</title>\n",
       "<ellipse fill=\"none\" stroke=\"black\" stroke-width=\"2\" cx=\"18\" cy=\"-22\" rx=\"18\" ry=\"18\"/>\n",
       "<text text-anchor=\"middle\" x=\"18\" y=\"-18.3\" font-family=\"Times,serif\" font-size=\"14.00\">5</text>\n",
       "</g>\n",
       "<!-- 4 -->\n",
       "<g id=\"node2\" class=\"node\"><title>4</title>\n",
       "<ellipse fill=\"none\" stroke=\"black\" cx=\"139\" cy=\"-22\" rx=\"18\" ry=\"18\"/>\n",
       "<text text-anchor=\"middle\" x=\"139\" y=\"-18.3\" font-family=\"Times,serif\" font-size=\"14.00\">4</text>\n",
       "</g>\n",
       "<!-- 5&#45;&gt;4 -->\n",
       "<g id=\"edge1\" class=\"edge\"><title>5&#45;&gt;4</title>\n",
       "<path fill=\"none\" stroke=\"black\" d=\"M36.0498,-22C55.5788,-22 87.8386,-22 110.838,-22\"/>\n",
       "<polygon fill=\"black\" stroke=\"black\" points=\"110.982,-25.5001 120.982,-22 110.982,-18.5001 110.982,-25.5001\"/>\n",
       "<text text-anchor=\"middle\" x=\"78.5\" y=\"-25.8\" font-family=\"Times,serif\" font-size=\"14.00\">1/1.88805</text>\n",
       "</g>\n",
       "<!-- 3 -->\n",
       "<g id=\"node6\" class=\"node\"><title>3</title>\n",
       "<ellipse fill=\"none\" stroke=\"black\" cx=\"254\" cy=\"-22\" rx=\"18\" ry=\"18\"/>\n",
       "<text text-anchor=\"middle\" x=\"254\" y=\"-18.3\" font-family=\"Times,serif\" font-size=\"14.00\">3</text>\n",
       "</g>\n",
       "<!-- 4&#45;&gt;3 -->\n",
       "<g id=\"edge5\" class=\"edge\"><title>4&#45;&gt;3</title>\n",
       "<path fill=\"none\" stroke=\"black\" d=\"M157.162,-22C175.331,-22 204.275,-22 225.606,-22\"/>\n",
       "<polygon fill=\"black\" stroke=\"black\" points=\"225.676,-25.5001 235.676,-22 225.676,-18.5001 225.676,-25.5001\"/>\n",
       "<text text-anchor=\"middle\" x=\"196.5\" y=\"-25.8\" font-family=\"Times,serif\" font-size=\"14.00\">1/1.3247</text>\n",
       "</g>\n",
       "<!-- 0 -->\n",
       "<g id=\"node3\" class=\"node\"><title>0</title>\n",
       "<ellipse fill=\"none\" stroke=\"black\" cx=\"615\" cy=\"-22\" rx=\"18\" ry=\"18\"/>\n",
       "<ellipse fill=\"none\" stroke=\"black\" cx=\"615\" cy=\"-22\" rx=\"22\" ry=\"22\"/>\n",
       "<text text-anchor=\"middle\" x=\"615\" y=\"-18.3\" font-family=\"Times,serif\" font-size=\"14.00\">0</text>\n",
       "</g>\n",
       "<!-- 1 -->\n",
       "<g id=\"node4\" class=\"node\"><title>1</title>\n",
       "<ellipse fill=\"none\" stroke=\"black\" cx=\"490\" cy=\"-22\" rx=\"18\" ry=\"18\"/>\n",
       "<text text-anchor=\"middle\" x=\"490\" y=\"-18.3\" font-family=\"Times,serif\" font-size=\"14.00\">1</text>\n",
       "</g>\n",
       "<!-- 1&#45;&gt;0 -->\n",
       "<g id=\"edge2\" class=\"edge\"><title>1&#45;&gt;0</title>\n",
       "<path fill=\"none\" stroke=\"black\" d=\"M508.103,-22C527.336,-22 558.975,-22 582.67,-22\"/>\n",
       "<polygon fill=\"black\" stroke=\"black\" points=\"582.926,-25.5001 592.925,-22 582.925,-18.5001 582.926,-25.5001\"/>\n",
       "<text text-anchor=\"middle\" x=\"550.5\" y=\"-25.8\" font-family=\"Times,serif\" font-size=\"14.00\">0/1.45687</text>\n",
       "</g>\n",
       "<!-- 2 -->\n",
       "<g id=\"node5\" class=\"node\"><title>2</title>\n",
       "<ellipse fill=\"none\" stroke=\"black\" cx=\"375\" cy=\"-22\" rx=\"18\" ry=\"18\"/>\n",
       "<text text-anchor=\"middle\" x=\"375\" y=\"-18.3\" font-family=\"Times,serif\" font-size=\"14.00\">2</text>\n",
       "</g>\n",
       "<!-- 2&#45;&gt;1 -->\n",
       "<g id=\"edge3\" class=\"edge\"><title>2&#45;&gt;1</title>\n",
       "<path fill=\"none\" stroke=\"black\" d=\"M393.162,-22C411.331,-22 440.275,-22 461.606,-22\"/>\n",
       "<polygon fill=\"black\" stroke=\"black\" points=\"461.676,-25.5001 471.676,-22 461.676,-18.5001 461.676,-25.5001\"/>\n",
       "<text text-anchor=\"middle\" x=\"432.5\" y=\"-25.8\" font-family=\"Times,serif\" font-size=\"14.00\">1/1.3247</text>\n",
       "</g>\n",
       "<!-- 3&#45;&gt;2 -->\n",
       "<g id=\"edge4\" class=\"edge\"><title>3&#45;&gt;2</title>\n",
       "<path fill=\"none\" stroke=\"black\" d=\"M272.05,-22C291.579,-22 323.839,-22 346.838,-22\"/>\n",
       "<polygon fill=\"black\" stroke=\"black\" points=\"346.982,-25.5001 356.982,-22 346.982,-18.5001 346.982,-25.5001\"/>\n",
       "<text text-anchor=\"middle\" x=\"314.5\" y=\"-25.8\" font-family=\"Times,serif\" font-size=\"14.00\">1/1.80902</text>\n",
       "</g>\n",
       "</g>\n",
       "</svg>\n"
      ]
     },
     "metadata": {}
    }
   ],
   "source": [
    "sh_p=out_fsa.shortest_path()\n",
    "sh_p"
   ]
  },
  {
   "cell_type": "code",
   "execution_count": 46,
   "metadata": {},
   "outputs": [
    {
     "name": "stdout",
     "output_type": "stream",
     "text": [
      "[u'1', u'1', u'1', u'1', u'0']\n"
     ]
    }
   ],
   "source": [
    "shp_l=[]\n",
    "for p in sh_p.paths():\n",
    "    for s in p:\n",
    "        shp_l.append(sh_p.osyms.find(s.olabel))\n",
    "print shp_l"
   ]
  },
  {
   "cell_type": "code",
   "execution_count": 47,
   "metadata": {},
   "outputs": [
    {
     "name": "stdout",
     "output_type": "stream",
     "text": [
      "[1 1 1 1 0]\n"
     ]
    }
   ],
   "source": [
    "print viterbi(*hmm)"
   ]
  },
  {
   "cell_type": "code",
   "execution_count": null,
   "metadata": {},
   "outputs": [],
   "source": [
    ""
   ]
  }
 ],
 "metadata": {
  "kernelspec": {
   "display_name": "Python 2",
   "language": "python",
   "name": "python2"
  },
  "language_info": {
   "codemirror_mode": {
    "name": "ipython",
    "version": 2.0
   },
   "file_extension": ".py",
   "mimetype": "text/x-python",
   "name": "python",
   "nbconvert_exporter": "python",
   "pygments_lexer": "ipython2",
   "version": "2.7.9"
  }
 },
 "nbformat": 4,
 "nbformat_minor": 0
}